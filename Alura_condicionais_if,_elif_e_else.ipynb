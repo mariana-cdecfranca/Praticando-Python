{
  "nbformat": 4,
  "nbformat_minor": 0,
  "metadata": {
    "colab": {
      "provenance": [],
      "authorship_tag": "ABX9TyM56Q/J8Hk+pcjOBWmxkG7C"
    },
    "kernelspec": {
      "name": "python3",
      "display_name": "Python 3"
    },
    "language_info": {
      "name": "python"
    }
  },
  "cells": [
    {
      "cell_type": "markdown",
      "source": [
        "#Atividade 1:"
      ],
      "metadata": {
        "id": "WRgIEB6hOUa7"
      }
    },
    {
      "cell_type": "markdown",
      "source": [
        "Bruno gerencia um pequeno comércio e quer saber qual produto teve o melhor desempenho de vendas no mês passado. Ele registrou a quantidade vendida de dois produtos: maçãs e bananas. Agora, ele precisa escrever um programa que identifique e exiba qual deles teve maior venda.\n",
        "\n",
        "Crie um programa que receba o número de vendas dos dois produtos e exiba uma mensagem indicando qual deles vendeu mais. Se as quantidades forem iguais, exiba uma mensagem dizendo que houve empate.\n",
        "![image.png](data:image/png;base64,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)"
      ],
      "metadata": {
        "id": "T04du9-rKo5s"
      }
    },
    {
      "cell_type": "code",
      "source": [
        "maca = int(input(\"Maçãs vendidadas: \"))\n",
        "banana = int(input(\"bananas vendidas: \"))\n",
        "\n",
        "if maca > banana:\n",
        "  print(\"As maçãs tiveram mais vendas\")\n",
        "elif banana > maca:\n",
        "  print(\"As bananas tiveram mais vendas\")\n",
        "else:\n",
        "  print(\"As vendas foram iguais\")\n",
        "\n"
      ],
      "metadata": {
        "colab": {
          "base_uri": "https://localhost:8080/"
        },
        "id": "-cs4yVAZK53p",
        "outputId": "66dea41b-ecc9-454c-e18f-0bc17b72387f"
      },
      "execution_count": 16,
      "outputs": [
        {
          "output_type": "stream",
          "name": "stdout",
          "text": [
            "Maçãs vendidadas: 56\n",
            "bananas vendidas: 88\n",
            "As bananas tiveram mais vendas\n"
          ]
        }
      ]
    },
    {
      "cell_type": "markdown",
      "source": [
        "#Atividade 2:"
      ],
      "metadata": {
        "id": "X6gJwlVFOaoo"
      }
    },
    {
      "cell_type": "markdown",
      "source": [
        "Camila está organizando um projeto e precisa calcular o tempo total necessário para concluir três atividades: A, B e C. No entanto, se alguma atividade tiver um número de dias negativo, o código deve avisar que os valores inseridos são inválidos e não calcular o total.\n",
        "\n",
        "Escreva um programa que receba o número de dias de três atividades e exiba o tempo total do projeto. Se algum valor for negativo, mostre uma mensagem informando o erro.\n",
        "\n",
        "\n",
        "![image.png](data:image/png;base64,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)"
      ],
      "metadata": {
        "id": "0g8zwlrOM4SP"
      }
    },
    {
      "cell_type": "code",
      "source": [
        "atv_A = int(input(\"Dias para atividade A: \"))\n",
        "atv_B = int(input(\"Dias para atividade B: \"))\n",
        "atv_C = int(input(\"Dias para atividade C: \"))\n",
        "\n",
        "if atv_A < 0 or atv_B < 0 or atv_C < 0:\n",
        "  print(\"Erro: os dias não podem ser negativos\")\n",
        "\n",
        "else:\n",
        "  tempo = atv_A+atv_B+atv_C\n",
        "  #print(\"Tempo para as atividades:\", tempo)\n",
        "  print(f'Tempo para as atividades: {tempo}')"
      ],
      "metadata": {
        "colab": {
          "base_uri": "https://localhost:8080/"
        },
        "id": "NVsyJKczKj-r",
        "outputId": "6552514a-7767-452a-e24c-aeef7a0b7aae"
      },
      "execution_count": 23,
      "outputs": [
        {
          "output_type": "stream",
          "name": "stdout",
          "text": [
            "Dias para atividade A: 3\n",
            "Dias para atividade B: 3\n",
            "Dias para atividade C: 3\n",
            "Tempo para as atividades: 9\n"
          ]
        }
      ]
    },
    {
      "cell_type": "markdown",
      "source": [
        "#Atividade 3:"
      ],
      "metadata": {
        "id": "HjqHxo1BOdQv"
      }
    },
    {
      "cell_type": "markdown",
      "source": [
        "Lucas trabalha em TI e precisa garantir que a temperatura de uma sala de servidores não ultrapasse 25°C. Ele quer um programa que receba a temperatura atual como entrada e, se necessário, exiba uma mensagem de alerta.\n",
        "\n",
        "![image.png](data:image/png;base64,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)"
      ],
      "metadata": {
        "id": "VFKDhxbFOf9j"
      }
    },
    {
      "cell_type": "code",
      "source": [
        "temp = float(input(\"Digite a temperatura atual: \"))\n",
        "\n",
        "if temp > 25:\n",
        "  print(\"Alerta! Temperatura acima do limite permitido\")\n",
        "\n",
        "else:\n",
        "  print(\"Temperatura ideal.\")"
      ],
      "metadata": {
        "colab": {
          "base_uri": "https://localhost:8080/"
        },
        "id": "qoZeTQkdOfHr",
        "outputId": "600b90c1-ea5a-4404-8776-a233c5011de1"
      },
      "execution_count": 26,
      "outputs": [
        {
          "output_type": "stream",
          "name": "stdout",
          "text": [
            "Digite a temperatura atual: 25.1\n",
            "Alerta! Temperatura acima do limite permitido\n"
          ]
        }
      ]
    },
    {
      "cell_type": "markdown",
      "source": [
        "# Atividade 4:"
      ],
      "metadata": {
        "id": "2Tz7-3mXPdAP"
      }
    },
    {
      "cell_type": "markdown",
      "source": [
        "Anna Júlia está criando um sistema para calcular o Índice de Massa Corporal (IMC) e fornecer recomendações básicas. O programa deve receber o peso e a altura de uma pessoa e exibir o valor do IMC, além de indicar se está abaixo do peso, com peso normal ou acima do peso. Crie um programa que receba o peso (em kg) e a altura (em metros) e calcule o IMC usando a fórmula: IMC = peso / (altura ** 2) Depois, exiba o valor do IMC e uma mensagem indicando se está abaixo do peso (IMC < 18.5), peso normal (18.5 <= IMC < 25) ou acima do peso (IMC >= 25).\n",
        "\n",
        "![image.png](data:image/png;base64,iVBORw0KGgoAAAANSUhEUgAAAcQAAAByCAIAAABC2TaUAAAYbklEQVR4Ae1dTY8cNRN+/8r+tF4UDiRCcECCCyCkZSMibnyduMCB0SoIwYELCC5wiRYuoFwgIgpoYQUJSHzlQOaVyy67yi53t2dnZqd7nrmM2y5XlR/bT5fdX/9b8u8f/IAAEAACQGBVBP7HXLpcVQPqAQEgAASAwD+JTCOrIgEEgAAQAAKtCIBMWxGDPBAAAkDAQABkaoCCLCAABIBAKwIg01bEIA8EgAAQMBAAmRqgIAsIAAEg0IoAyLQVMcgDASAABAwEQKYGKMgCAkAACLQiADJtRQzyQAAIAAEDAZCpAQqygAAQAAKtCIBMWxGDPBAAAkDAQGAVMr1///5HH330Qcvv008//fvvvw37yAICQAAIzAKBZjJ9+PDh008/3bX/XnnllVkghkYAASAABAwEmsn0q6++6rruqaeeut7yu3r1atd19+/fN1xAFhAAAkBg+gg0k+nnn3/edd0777zT1PYbN250XXfnzp2mWhcRPj0+ODg46E7Om5XcOqKai/aazaZQoUDgfNHJXnOHB8enhdiYjEzVmCqQAQKrI9BMpg8ePHjjjTdOT9vG9xdffPHBBx88ePBgdU8ba26CTM9PuoODo7aWN7q95+LUaxLhi5DpcknnxaNbew4qmr8lBJrJtObXd9999+jRo1rpWvNPKXR04WP4dVuKIkGma+3HXBnB2y3OZP7FyHS5tHRK/Y3pMxcoG78QOxcj8+AAVN4I8YTF10Om33///WOPPXZycrIVJNyQFet3mm8H2STciCMg043AGpRm3epzL0qmyyVp2NzpluiVGdNswiYxg+5dQmA9ZPrxxx/7y/ufffbZ5ltXDlmXc8ATxi/wffjAo1w65clXhReBmv1uqS9R+3SkX9UI6sWSX6ptY3bpsDhJeJ9ranMQxhO9M3d8uhRBVo5SFYflcimhKJopdLbuh1T8p+anvgjWBUoSn9BDopQwrC/2yeiFgke9L5F3ihx2SM8egfWQ6aNHj1577bWu6w4PD2/fvu1R+/fff19//XV5zf/GjRvy8N133/3vv//aITaGLM0KPbdVyBCN0Nxj2q3MpWwCx7p+zSh39GIRTXKe84YzUbBI6Nm4PD2WrehRm4NARk3fcpPM3cFQ5q0+VA4EJuVmukNGchkW1ImYyIpsS+6GPq5hLvPJGbVnPaY3+QSQ3I6WqfrByhe4lv6EJLg775RoCYl9QKCNTL/++uvarfo3b958/PHHu667du3ar7/+6rH76aefnnzyyXhP6pUrV2L6hRde+PPPP1eC2BiyRAFpJju1JpnmmRlZeHfkBFYO1giryK9qUOrcQZ9kr9ochEK4MMUZBc1JVTJNFVxYx5yYo8ca3X9R0cewBoXJWpyuao74UEIxadnFzgfz0r9rsuB9turPjnrYxLIRCUJSnsDIAbGCyUP+ETohMl0E2sj07bffjmzYk3jxxRcjIvfu3bt27ZoXPjw89IkLMKk5b63rtub8zFd8JQX0EVyFsOKEj41e1mZvkuAUTUiTAvrV5p5XfGMz4r/wTRiS1OmrKBgDWRgckQPrKheGhBNZsrQbBLxvC7ruI2mLinOjOSbRyHhwYpXhBCEjwtK8BhmVm/u5AI5nhsBGyPTLL7+UMN27d++JJ56I5Pvcc8/99ddfUqAxbcwZP3DVJFcsEC3Q5OQghWpx2BVF6tFiZU4GihERCSXZSlJcSXnnfXUxOfvV5iBUfDNMFhyXyFR6IpsjgCXhUCags9iQzhMFAxoe+XOh0JZkhDkDzzG96XSNBydZHkqNaJ1yb0gfyiePQBuZ9jT3559/9oz5/vvvl2J37969evXqlStXnnnmmd9//70UaMnJeSQEQQNrQG8hY6j6BLbWp5U5SXPGkm9pFEfE6UaFfrU5CBXfDBd6yJRuzDQxKfTQuSrtANTI1GDAQtVyiEzj5bJc25jedObGg2M5Z+UNhaW+zgjCtZQjb5oIrIdM//jjj2effbbrujfffLOGw48//vjqq6/+8ssvNYHR+TmPhAvTGZ1Zkem4SVVnMYsy2tazA41UpgvWk5UzEKhidjqR4iKdq5VAybSoYieVcOZPZTfGVlTufkY5AQgt6uWW6LjedKryJrN60rDKnuk4liSuz4Ylm8b//BBYD5l+8sknXdc9//zzDx8+3DxGet7SlDZuxFFTnZ2qsCEX+38xgXWBzdp8sUvO86xe/VBdEM+vDvum2bORnAyRmmfSAwMEy7BmFqnHSRNNVILTW0diF8KHe0mSiCkdjqOb6F8Nc5XvuS/5MKo3A61bvcO42QhH34oE9UtyoyinDK983C6HrQG5E0NgPWS6XC7feuut3377bSutpxO+2NITO3o8c0QpJdOYpkmui3kuGUXlEyw+PgoKklp9A6Yr1l7VgQknA9aYP/vY09hU5Ca2c0z6U7WYN5ObHyt4zkoYicW1LsrNqVJRK2ruSVDdXGF5t0Nwnn3O22Jeza9zrnd4bE+x92Q0nTY4O8TXCTd2MgkgNWsE1kamk0DJmAZEjkNRxiQaN9ZJB0Ij041VfSE5Oje0ENC43lSx7YUcRGUg0ItAM5neuXPn+vXrN2/e7FWbFy4Wi+vXr//www95wVaPaV5lPDJqybZVLzdtbFfJtPWuz1G9SbGnFUVuGmXo3z8Emsn0m2++6bru5Zdfvt3ye+mll7qu+/bbby8X4SKW8Rtb+zXZdpZMB3Zsi6Ez3Ju07GhdxRd2kAEERiHQTKZnZ2fxjtGmxOHh4YVvihrVpH4hmoFpX2snF7z9Lbho6S6Tqd8kHb/r0tub7kw5XtVFYUX9vUegmUyXy+V7773XRKNe+MMPP9x7tAEAEAACs0VgFTJ19wKdnbWs8m/fvXt3thCiYUAACACB5XJFMgV0QAAIAAEgIBEAmUo0kAYCQAAIrIjAbMnUX5pY5foDXQLewwtTfgTJSzrTug7u7oLK7nvrmRTulrj9uoujBwwUrQUBkGkBY51MK0/pFBpmkEG331pk6m6tX+UUtWlM2u+CotNG+czVph2F/tkiMEUyTY9RhlucxscjF+tHkKn1EuiLYbqW2is+eWHd9r8Gf/zNy6uccmiA8aBWXykPOrlsS1+QXAMY+6RiqmQqgiM/zraxZAOZ7iaZuhhztRPqiixcZQgaId3ilnuZtRiiVXlRQCGC3YrsQdseSaEPya0jMAMy5Zeb8EAc2vXTJ3k614dx7xf4/uyvHhIvYuEQIchFolTbxuzSYTkDC+52bkgBWdF6K1J9NMmWmq9HKZb5MmgKrZfQla+5UxrYc2FX7SGQMKttQ8/+Po0zdHQa1B6d+hd+W69BIQxlP0bQ2jnr1lHgdLIreyoqrSWcGzyAcxnXFoVJMTDyGji+FATmQab56+AclGoyR2yJ8njUeoJQs9oJkowi01C9Pohp4nEVElOjP5ovE9lklh/UK8wxJZGW85Muee5Zgx0oraics0WXJP05oGATG71w3jJpIqcDpYHwcWQZDGmI1HsICZCx6FVf/EwE1HVHp/7jVF3XnZwXeBIqxO8JyYgU5WcsFgsHEtR2EyW7osKqECk8zKEuaiDjUhCYE5nqt96ZAzTPVCTIHdBMpsUsrWpgE/G/T7JQq8g0qvCJjJSz0r7DYq464RyoqKDqQz7DlQbCmc9hvfqD6dFMVAGQGkVKkmnN4IMtShWj6NgEtX10E/hDA7Q5wOG5Or1R54ZFCaUbTjZjfYbchRGYCZnS2zxHkGlOHCY1VOZn9esXhnzOLPV+8vPEXKQ3kWkhXDeZlSjW4zIz0xWaiFFBtlBVGoiYUjjMVuz/qglLvCLsOtozTjJdIVOj+yxDLXmNZEqOyWU+ucRRfDBMQ5eoVvFsi1uQ3SwCMyFTPxzVYk1N5ggiDVMOkVpnF8mXQ5mmK0cU6Z+tRNu1RJhLVFOGM4W5jDhKu6Vvts3A4MlXfR7aUGRaJ1OJgHdK4mC3IeRmmLDs9MhUB5t69Pr+ouHteVZtnXOb8X/JCMyETGm0aSrRw5FhzghIj+AgVA1VCnbzFarybHTkfz5PCnOSOKghgq8L4apRwko03ATKzHQqpQ/KhFMr/NEbBeRthUw9k4oTYdWEshcOKsKTIlPjO4YC/wKf3k/LWBghbzsIzIJMaeTlK2UxHCOU4xinTo5pikaVLpHziCpsOlCmc29poRdCNkoLAhr/Ac6C1yygNBXKJigPZUEGgqaAwmiqSQolC9f5OlVKqYo/qaeSaXJJnEWCkgodkxvq9JCMDqUIUju49mM1W8KXXZD8N6hTYzvkDMq3hcD0ydQcnbWFqhijdYQr85N15qzdk1+3wSXqQransDQJJWNS+iDeGuVbzbEeBZvpWjkrN/+pdXEys1rJy65aOb1ZGdkqKUndUOFnu/gQVmI0VpP+lcLQmw3LWLKlFyXq29HJtE2mEuTklL8o5PBenMnccWlqRepHUalAJpQRCLEVyWdX7PuI+9ovDuJ9EUI3kpeMwFTJVGz3Zft9NBBlsUvHYerP87qYhylTkirNWYbZh4SSWh7iqW5esdbRTB++ZlYrzj1qguPBNEWFJ9X7fmyjAqJuca54UxSJppwqPZ6OQ3HyJ3zZlPJdpOlUcXNILeOslLkDqZBvZlLP/xQ1ZIbynwscOJ4Hk2mTTF2nq7iYNawQmequZPw0HQcZOXKCRTn8JKquWPS1U2s7HD1H4nIQmCKZro4UjVc9uGmY5mN3dQuoeQkIULca9DTsiknEw9UgAQQMBPaKTCkCys7qNJ1ApsbQmFCWD/eqkW+tJdZ4qMkiHwgMIbBXZFru5fsFpo5VhyBD+S4i0L7CWD2e3cX2w6fLR2C/yDRceefdLGw/Xf4AXJ8Hbks0W3b0KHfBLE6iPQChqBmBvSPTZoRQAQgAASAwAgGQ6QiQIAIEgAAQGEIAZDqEEMqBABAAAiMQAJmOAAkiQAAIAIEhBECmQwihHAgAASAwAgGQ6QiQdkGEn4HhZ4p2wSf4AASAQEIAZJqw2NVUeNoSNLqrHQS/gIBDYLJk6h96CXeMbuGGQeuh9XBXoy8SjzMG30SOfG59B56tlo+BG+9tCa/BZnDHPSYvXiPA9/HyXZ/KHBfys/OYh0BgJghMk0zzx13OF+5rP1v5OdMZdweejZEj00p0yWDbo3EMtYkmOWqLT14aD2KSt8yD4x2gVscmD9RzPrSbGFCKYiBwqQhMkUxHPFLNO4wuDIrEYb1ZrnlWl2Tqn6U5OWJD54uuW5zQ1zGpaykuG8syxWAIa3yK5zISd7KeuCOPF9WHMzL3mgFhCw1kSgyO9yEwcvifCQKTJVPxVr2sK2hWR96hOCvyKU1jST3N3FEj07NT953fM3pb2vEpvQ/U+6AdyHwdOFR1dbt8Taba2MABhUaxItMCH6NCJWs8mSqLFW3IBgKTQ2CKZCpe72iQiCMgFfVI+ivIYn1k6t6i0p2cnx7TSzydIebW9FrPtuFR0BNRp24yycTXhrbpJ2kd5nus6p/J7DHgPZE7ouemNHWB6iBTDJlAYGoITJNMHcoclLnpKxbRkjp9Z0gClWkqXQOZOovkwNmi67oupi9KpgZ1Nns7NBw9A0ZqC4SYdjM9yALeIYVcTjG17JdYcKz7i/PxDwSmjsB0yZSRd1xGhHrL5eTxkS+LseFGyZT4PRBTNETuyY0F9nvw3/MRNyD+J6Yb1DAgELASoS7lxB0Sqh4bMqCsKDYbTtoidxd1kAEEJozA9MnUgU+841nGzWFNB7J3CmpojvVK/S6niN2iIUrwtSnpymDaiEwH6zQIENnll9TL1sWGNKgmUaqY8aZDu8SqVTPkgcBOIjA7Mu2f/HmpYOGR3VPQDUVzdTIN2xGFwAhzY4jeR5fNka/JpNbdDrWvEA9yYi3Izeh1BAwQAQLTQGCKZKq/6MlL+0goFP7UglNiz7Cw5XV008J5JJlSsCyX/Ip9zhaj7jMl6u+NannjWCzVh8ddjUmppg4eJVxBsadvF2HSvoptjkxkvKk12/WQCwSmi8AUyTR8iDjuIiqeoq6IEz7ISLr0DEUFR7doj1WWVnuSmVdY9WtkslUGnk5esAmznq8+yqJ3JbebUZhvaZZZbYQr0J7E5gg6JtYLBaIJrDUAmDdZ1jJ2WoZPDKwf/0BgmghMk0yniTW8BgJAYMYIgExn3LloGhAAAttDAGS6PaxhCQgAgRkjADKdceeiaUAACGwPAZDp9rCGJSAABGaMAMh0xp2LpgEBILA9BECm28MaloAAEJgxAiDTGXcumgYEgMD2EACZbg9rWAICQGDGCIBMi871T1vu2vs4gle9D3EWTVk5wz/OZDz+tLLG8RXpWamWZ7rGq4YkENggAiBTCa5/1NI91+8f09wOmzjm6nvANDwAuk1+AZnKYYE0EBiDwOTI1DNL/mB4eAufeMB8TON3RGaITHfEzW25gch0W0jDznoRmByZVj4hR6vgbcZua+wGkKkCE2Sq4MDBZBCYHpnSt+r0N0fDV+lTuKreGmWEq/JVTKkWdVpPUX+nyrcxFS8A9O9MCm9iYosqM76+SS/5lUyhts8j6Y98f1WoIyGSuxl+ge+9UScn50m3cN8NPPAvhQqScoOCN3apOjezz8lYJmF3taVp6WrvCwmjNpdw7oUvG/rWKJ1OQnqbDxLpTwG76pSmZioPcTAzBCZIpsbrlmnoh/mQ7QNQUTnh0+Q5PYppmiSRWYgsRk4V6YCPncUM1GrdySBapNHkDEkP0xBTb24lf4TaJGakTo+FJLFGbBe/hS8JnJ8cue+qyh/5LBnNf2+167rFmUPYfezq+FS9Olq1K+sFqbpIl/gkMs30FL1ZKIsZBFfgff6ejWxy508JJK+6r9gyUr3gmT0i09Qp0TckZonAFMk0xBRxQKsp7YgjzRnXZ0QlLEyTU3NZ7NeC1NwcExwUBfMETTBJu9pK6ZJWUNjVxfEoI52YP5wgfyJfD/nj9Nlk6hcEguAUttqPniItmDdfmi5dbVKrRoLsTZkmb6Qh6YB21fOsHhIZEecVcLw/CEyTTP1Hn5gT5Wx06fyuJjFz2uaJ5sTqoDDEpEthX0JNbKVLCauS7EA0JCsZOpQmZLparwQq5Qhq7qG2JF81QgVFo0RF52pPb/YqLpopuklSp1cijIbINEXHwozV3sKQkEdynxCYKJnSjliYZmo2WiPbCYS9tnIWxc6m6RR21+QfU3YULBKkX1bx6RgJugpSRsawVFZd5oerbVK3DosKX2JG2Zzgj+CUKFwmFLlQccqpkilxn3S22KYsDcnvu/jSZIh6WcHISA53Slk3NVxtwgp/efmSfY9ALHSs8UOtzvvUaCiy5o7AVMk0Ld71+K6RaeAgMVGLnlWkXJT2ZKRZ2iMUiii0yaIty2cnnm3PWWvMikFqprxWI03IdKV+dZlPdGOTqVMro+8+qKXZAnZR0XK1kJfKRLqoK7pJjxlRqUh6JGO7rIqFoUIJMvYDgcmSKa/086FcDneVQxGiHdeIydbY97kP/dWVP0602HL19QVnBYVjeYQUinjKX9rmEK8sNfwVjBZKU45wzLXFh58FsEneUC+yctgdmHGJXWCl9seFljKZd4r0R6bLmlmOEi67oMyhFsUmZNpwOF8EpkumfqXvJp5e+Yqp7rotn+Q+3BNVxNV8ogZRNLrbab7JSFDWPD/pxPpRblCwVMUu0QpzojeRN5Y1ZP9KYZjb4oYBwkTsRY6+mu95UyBMhlK4GnVSfuLEzD19KMndpd2NAnF/QNhytfLe1JrUkSbTTI/vBcZW1XNXLOUYkO7xmS9VpD7Sa3zuqdp4yKzhcDYITJhM/UpfLS1DtzB90HaYnBihnKc6lVdmApVZymtd7xkqVMt4hKYcF3GEKBV5io82z42GHJ2W24tShU5LhUe3KhuI0aMTNujZivP5nyBKAZogpkSmzHS+Trc4T/LaM+so4eMWDQ5JcfoZ6k1LofOGIlxuAm+aC2EJkRMT/aKL9Ajh7ZegWdRi3cFh0QQuwf+sEZgymc66Y9C4CyLgyNRgugtqRXUgUEUAZFqFBgWTRgBkOunum6LzINMp9hp8HkYAZDqMESTWigDIdK1wQtnOIAAy3Zmu2BdHQKb70tNoJxAAAhtFAGS6UXihHAgAgX1BAGS6Lz2NdgIBILBRBECmG4UXyoEAENgXBECm+9LTaCcQAAIbRQBkulF4oRwIAIF9QQBkui89jXYCASCwUQRAphuFF8qBABDYFwRApvvS02gnEAACG0UAZLpReKEcCACBfUEAZLovPY12AgEgsFEEQKYbhRfKgQAQ2BcEQKb70tNoJxAAAhtFAGS6UXihHAgAgX1BAGS6Lz2NdgIBILBRBECmG4UXyoEAENgXBECm+9LTaCcQAAIbReD/bFufuNMV/FgAAAAASUVORK5CYII=)"
      ],
      "metadata": {
        "id": "ufmgm69nPgNL"
      }
    },
    {
      "cell_type": "code",
      "source": [
        "peso = float(input(\"Insira seu peso (kg): \"))\n",
        "altura = float(input(\"Insira sua altura (m): \"))\n",
        "\n",
        "imc = peso/(altura)**2\n",
        "print(f'Seu IMC é: {imc: .2f}')\n",
        "if imc<18.5:\n",
        "  print(\"Você está abaixo do peso\")\n",
        "elif imc>=18.5 and imc<25:\n",
        "  print(\"Você está no peso normal\")\n",
        "else:\n",
        "  print(\"Você está acima do peso\")"
      ],
      "metadata": {
        "colab": {
          "base_uri": "https://localhost:8080/"
        },
        "id": "hOiKG1aJPmEA",
        "outputId": "b1007e85-0b66-4d4b-d1a7-5e068d94f86c"
      },
      "execution_count": 36,
      "outputs": [
        {
          "output_type": "stream",
          "name": "stdout",
          "text": [
            "Insira seu peso (kg): 73\n",
            "Insira sua altura (m): 1.75\n",
            "Seu IMC é:  23.84\n",
            "Você está no peso normal\n"
          ]
        }
      ]
    },
    {
      "cell_type": "markdown",
      "source": [
        "#Atividade 5:"
      ],
      "metadata": {
        "id": "kiOQorkOTDS8"
      }
    },
    {
      "cell_type": "markdown",
      "source": [
        "Carlos quer monitorar seu orçamento mensal para evitar gastos excessivos. Ele estabeleceu um limite de R$ 3.000,00 para seus gastos e precisa de um programa que ajude a controlar suas despesas. O programa deve receber o total de despesas realizadas e informar se ele ultrapassou o limite ou ainda está dentro do orçamento.\n",
        "\n",
        "![image.png](data:image/png;base64,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)"
      ],
      "metadata": {
        "id": "VSueiO8BTIZv"
      }
    },
    {
      "cell_type": "code",
      "source": [
        "despesas = float(input(\"Digite o total de despesas do mês em reais: \"))\n",
        "\n",
        "if despesas > 3000.00:\n",
        "  print(\"Atenção, você ultrapassou o limite do orçamento.\")\n",
        "\n",
        "else:\n",
        "  print(\"Despesas dentro do orçamento.\")"
      ],
      "metadata": {
        "colab": {
          "base_uri": "https://localhost:8080/"
        },
        "id": "d7jVV5rvTHpB",
        "outputId": "67248f61-4ec8-464e-d830-33cfb00fad04"
      },
      "execution_count": 39,
      "outputs": [
        {
          "output_type": "stream",
          "name": "stdout",
          "text": [
            "Digite o total de despesas do mês em reais: 3000.01\n",
            "Atenção, você ultrapassou o limite do orçamento.\n"
          ]
        }
      ]
    },
    {
      "cell_type": "markdown",
      "source": [
        "# Atividade 6:"
      ],
      "metadata": {
        "id": "B7G3Mab2T65i"
      }
    },
    {
      "cell_type": "markdown",
      "source": [
        "Mariana é responsável por liberar o acesso ao escritório e precisa de um programa que verifique se os funcionários podem entrar. Para isso, ela usará o horário atual. O escritório só permite acesso entre 8h e 18h. Crie um programa que receba a hora atual como entrada (em formato de 24 horas) e exiba uma mensagem informando se o acesso é permitido ou negado.\n",
        "\n",
        "![image.png](data:image/png;base64,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)"
      ],
      "metadata": {
        "id": "8X49wQP0T7Ua"
      }
    },
    {
      "cell_type": "code",
      "source": [
        "horario = int(input(\"Digite a hora atual (formato 24h): \"))\n",
        "\n",
        "if horario < 8 or horario > 18:\n",
        "  print(\"Acesso negado.\")\n",
        "\n",
        "else:\n",
        "  print(\"Acesso liberado.\")"
      ],
      "metadata": {
        "colab": {
          "base_uri": "https://localhost:8080/"
        },
        "id": "mLlWATQ9UH3l",
        "outputId": "b0b80ee9-7ae8-49eb-9dff-8d270420c34b"
      },
      "execution_count": 43,
      "outputs": [
        {
          "output_type": "stream",
          "name": "stdout",
          "text": [
            "Digite a hora atual (formato 24h): 19\n",
            "Acesso negado.\n"
          ]
        }
      ]
    },
    {
      "cell_type": "markdown",
      "source": [
        "#Atividade 7:"
      ],
      "metadata": {
        "id": "GCWAK94eUwMl"
      }
    },
    {
      "cell_type": "markdown",
      "source": [
        "Uma professora precisa de um programa que ajude a calcular a média final dos alunos e informe se foram aprovados, ficaram de recuperação ou reprovados. As regras são:\n",
        "\n",
        "* Média >= 7: Aprovado\n",
        "* 5 <= Média < 7: Recuperação\n",
        "* Média < 5: Reprovado\n",
        "\n",
        "\n",
        "Escreva um programa que receba três notas como entrada e calcule a média final. Com base na média, exiba a situação do aluno.\n",
        "\n",
        "![image.png](data:image/png;base64,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)"
      ],
      "metadata": {
        "id": "wIoQupD9UwhZ"
      }
    },
    {
      "cell_type": "code",
      "source": [
        "nota1 = float(input(\"Digite a primeira nota:\"))\n",
        "nota2 = float(input(\"Digite a segunda nota:\"))\n",
        "nota3 = float(input(\"Digite a terceira nota:\"))\n",
        "\n",
        "media = (nota1+nota2+nota3)/3\n",
        "print(f\"Média: {media: .2f}\")\n",
        "\n",
        "if media >=7:\n",
        "  print(\"Aprovado\")\n",
        "elif media>=5 and media<7:\n",
        "  print(\"Recuperação\")\n",
        "else:\n",
        "  print(\"Reprovado\")\n"
      ],
      "metadata": {
        "colab": {
          "base_uri": "https://localhost:8080/"
        },
        "id": "rvb7D-ISU5TC",
        "outputId": "8c9cdd0f-9c5d-463d-b390-ea8fb534bbe6"
      },
      "execution_count": 54,
      "outputs": [
        {
          "output_type": "stream",
          "name": "stdout",
          "text": [
            "Digite a primeira nota:5\n",
            "Digite a segunda nota:5\n",
            "Digite a terceira nota:4.5\n",
            "Média:  4.83\n",
            "Reprovado\n"
          ]
        }
      ]
    },
    {
      "cell_type": "markdown",
      "source": [
        "#Atividade 8:\n"
      ],
      "metadata": {
        "id": "JhRozYI3WYy0"
      }
    },
    {
      "cell_type": "markdown",
      "source": [
        "Fernanda está planejando uma viagem e quer calcular quanto pagará de pedágio. O valor do pedágio depende da distância percorrida:\n",
        "\n",
        "* Até 100 km: R$ 10,00\n",
        "\n",
        "* Entre 100 km e 200 km: R$ 20,00\n",
        "\n",
        "* Acima de 200 km: R$ 30,00\n",
        "\n",
        "\n",
        "Crie um programa que receba a distância percorrida e informe o valor do pedágio correspondente.\n",
        "\n",
        "![image.png](data:image/png;base64,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)"
      ],
      "metadata": {
        "id": "R0xF_QS7WZK1"
      }
    },
    {
      "cell_type": "code",
      "source": [
        "distancia = float(input(\"Digite a distância percorrida em km: \"))\n",
        "\n",
        "if distancia<100:\n",
        "  print(\"Valor do pedágio: 10 reais\")\n",
        "\n",
        "elif distancia>=100 and distancia<=200:\n",
        "  print(\"Valor pago: 20 reais\")\n",
        "\n",
        "else:\n",
        "  print(\"Valor pago: 30 reais\")"
      ],
      "metadata": {
        "colab": {
          "base_uri": "https://localhost:8080/"
        },
        "id": "-VFYBIvBWqea",
        "outputId": "8a0ea9e2-da4c-4489-85fc-f8c6c48eb1d4"
      },
      "execution_count": 57,
      "outputs": [
        {
          "output_type": "stream",
          "name": "stdout",
          "text": [
            "Digite a distância percorrida em km: 130\n",
            "Valor pago: 20 reais\n"
          ]
        }
      ]
    },
    {
      "cell_type": "markdown",
      "source": [
        "# Atividade 9:"
      ],
      "metadata": {
        "id": "62dU7qLjXlt8"
      }
    },
    {
      "cell_type": "markdown",
      "source": [
        "Lucas está desenvolvendo um jogo e precisa de uma funcionalidade que verifique se um número é par ou ímpar. Essa verificação será usada para definir ações diferentes dentro do jogo. Escreva um programa que receba um número inteiro e exiba uma mensagem informando se ele é par ou ímpar.\n",
        "\n",
        "![image.png](data:image/png;base64,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)"
      ],
      "metadata": {
        "id": "YxVFQnzmXmAJ"
      }
    },
    {
      "cell_type": "code",
      "source": [
        "numero = int(input(\"Insira um número inteiro: \"))\n",
        "\n",
        "if numero%2 ==0:\n",
        "  print(\"O número é par\")\n",
        "\n",
        "else:\n",
        "  print(\"É ímpar\")"
      ],
      "metadata": {
        "colab": {
          "base_uri": "https://localhost:8080/"
        },
        "id": "I01Uuia4Xx42",
        "outputId": "d1725730-1f4e-4e0c-c229-ad2523be3263"
      },
      "execution_count": 63,
      "outputs": [
        {
          "output_type": "stream",
          "name": "stdout",
          "text": [
            "Insira um número inteiro: 4\n",
            "O número é par\n"
          ]
        }
      ]
    },
    {
      "cell_type": "markdown",
      "source": [
        "# Atividade 10:\n"
      ],
      "metadata": {
        "id": "lbaw78N2YqsY"
      }
    },
    {
      "cell_type": "markdown",
      "source": [
        "Pedro quer solicitar um empréstimo, mas a aprovação depende de duas condições:\n",
        "\n",
        "* O valor da renda mensal precisa ser maior que R$ 2.000,00.\n",
        "* O valor da parcela não pode ultrapassar 30% da renda.\n",
        "\n",
        "\n",
        "Crie um programa que receba como entrada a renda mensal de Pedro e o valor da parcela desejada. O programa deve informar se o empréstimo foi aprovado ou negado com base nas condições acima.\n",
        "\n",
        "![image.png](data:image/png;base64,iVBORw0KGgoAAAANSUhEUgAAAmQAAABQCAIAAAA4B/55AAAeCElEQVR4Ae1du45cRRP+X2WfZ+clxsgE2GLBEhIkgAiQhUXGzVqJBAIQMkIQkCxaEsiABOQELHsNMkhggwQIJ55fXdXV9VVXn9t4Z3cutcFOn77U5atb9zlz+d8i/gKBQCAQCAQCgUCgF4H/9Y7GYCAQCAQCgUAgEAgsoliGEwQCgUAgEAgEAgMIRLEcACiGA4FAIBAIBAKBKJbhA4FAIBAIBAKBwAACUSwHAIrhQCAQCAQCgUBgVLG8f//+Z5999smUvy+++OLff/8NfAOBQCAQCAQCgS1AYLhYPnz48Nlnn51P/3vttde2AKBQIRAIBAKBQCAQGC6W33777Xw+f+aZZ65O+bt06dJ8Pr9//35AHAgEAoFAIBAIbDoCw8Xyyy+/nM/n77333iRVr127Np/Pb926NWnV8pOPDvb29vb2D0+mkrh9OEsrD46nLtyU+VnBpOQy+JyGmsdXzo31aYi/ehrJe2eHt1fP6Iw5cFSS6+1d2doIO2NQg915ITBcLB88ePDWW2998803k0T86quvPvnkkwcPHkxatfzkVRRLKjMHR8sLtVYrz7FinSPrtTJBpzDbWiyzwieH+3tRLDutHwMbgsBwsexS5Mcff3z06FHX6Cn2p1Rr/s5qDx7F8pSsGMVyAMgolgMA1cMmJ5gz6zHdYjL5wux38UaLu590cp1uM/FqQ7YWIK53EIEli+VPP/30xBNPfPTRR2cAWZVq2aFn1yffcJ0sahTLyZC1F1QWbE/a5d4ollOsn9ypVDIufuVykYplZ3Kg+08ySuddqJdUgGUjXpOdIl/M3VIEliyWn3/+Ob899vh45Y8ifKo1bk0BkHeSGjNqLppsdpo50nCPaR92NpYQAdyi4iZUwk+Z9rRwocZ8z4LFYkE6IvfFYkFC6qNWI3MXDlbNzBNxgNyxKHkHEK5k6JHaqFk/LuU8lY1yKugRO0VDhS8ighYTHlGnVSmBArzIJZum4X4JVbuwAt/Avlc9swR2UBiKLs1GEvXgOJM9OF4IyOAMaBSEPfUn8fRYhqOLxQIXOqcVRoRCtZAkpQkgBorPlMf7Fa7ltg2EnmLpxYDJhJsRQ0zvOUbPbiKwZLF89OjRG2+8MZ/PL1y4cPPmTcbuv//+e/PNN/E9s9euXcPL999/fwmUUzC0Eo0NSx8JiZUJJEqXdpXMqeizlD5+RHpDlqZ5sjIXXzmtlGxLuanJGhelNs006QbinHKZxjmnSzOZSHgYJQmWtaSXbK41dWaBKa+V0VpEvDb4sBVAzeMrQKTDKEittCsBTq7PiuQ0VIDNiKlRbh/OFJDKCoV8q0HipSqQl9Na0cXKY23EVtBTjh0lskV42gwpJqjXosOaDVkTzdls/+CYdzn7s9n1E4TFGMU6LU2Dgm3Fs2qmwqmSJ+Oq5LyrU9izlO3YpEG2RYG3odZgl9GLdW/ediKVUfKsNVkTgULBnC6D4sSErUVgoFh+9913XV9FcOPGjSeffHI+n1++fPn3339nhH755Zenn366fCbz4sWLpf3SSy/9/fffSwCZgkHSU17eyCDNgDQVZcF77YqUS+UqoYsu5O6iDjO10jAtSmfmTY82K5nJ9sJmBD7QQJLqn0yjDRgbmQVzOrURri5ALHfO74hPi3VZY8pP6W02eui4ZFeZ3tIbDbvP/sDIsUD7OhcF4Z2v4kIrab3hc6PaQUpRclfDkbTkJ852oEg+OILJjGoguXLraDWt6fSFxSTGHrCGsVHNiiPpnk/66UUpW5BZqeP0kDJFrtWR1T+O9yWNssDOTBoolu+++26pdj2Nl19+uSB29+7dy5cv8+QLFy5wY+lKmZMFpuzEiUJCzwrpRlHDsylBwN6wNaeOk6LHwid9HsMsk2fbOAQSppkC0tzndAcgM91e2GRnY9vOzOfFung3llB61WxCZGCaB7lm1Lz2+ADNxor+UVzAibXeOdEMx5TzXceDbQsmsqjbLYjyHG90JIttWqBquqHqZFnJ4FSrxuVS5VHD0dpULBtEdL4fNejRWrdhFbbVq6qpA+240/HHaLFsEOOGlhlVfVW7AouKrdNWKLaRMi42BIHTKZZff/016nv37t2nnnqqFNcXXnjhn3/+wQmT2urHZRmlG7kzxr1tz05rS31KYQA7TaHWoM9DPqlRP9GEvWtudp7zhE+1e+VuzWtlWkcDFUyrbJEjOkaokcWyFhsQGy+bEbkkoNJbI8zmQ2nrzVBZ6hpkxLwUdkuOaRIec6i3mgXQMeKODp+pH+OBLpmscx4FwQ25YjlszYa4muXVcARLMrFXn0TO1h9Ej0/YHvYkxrA10XUbgi/dRWL338Il1uxdjM9R+lx1MX1RnK1TDpok0qrEXlrfWHi+CAwUyx7hfv31V66IH3/8sZ92586dS5cuXbx48bnnnvvzzz/9hPE9mmXKmkYKa3o2dfpEVuhQo0GfJ/ikRv0lwCyZ4asWozqn91BRvkl9rIWUHKHe6Ewg1+Cu6VXnwTTNuTo8ouW5A03JrVDnzOgI+jwlrdJHiQNnI5oM24IOyzaYNzxNZrXQk7HGbQlV03M3pEZZUxmVlhJRw5EtkuLeKGWdFP7ao3CrUSZXsPtHqqpmWdO866Ojy7bINM3bDEiRBCbVclEHN4C7SoRPdXpOMDZBQPrR3h0EliyWf/311/PPPz+fz99+++0usH7++efXX3/9t99+65owst+FH5dAjO2O27CaPvpYOfplcke0jCNbqGjDL/Q9Otu3kjwHR3RKgGLDu/6yWW7lvkSqpaZXEHtS2x7fvUitnkopTlJSy0v6LitbgpXBvgYurItBkqFkOqeIL1ddfIgOYqsT+4m4UZAWQRbXLd/g4zjWqqkEtqWwq76Kto7aVXTlWFQSmiWgCNfgdvmBNc2NbB4n1nrUg1W9TUJpsFLa5zVeDFDT2csd93vlicEdQGDJYnl0dDSfz1988cWHDx+uGiUMzvxsEm6kCHcfCY3dvUw2r5Y+DjWrcsluVbXGhV1tIihlw0Zy1xLTn0S9cnBQEisPUpyXqpbmpL9avKaamkyJFK0tCzXnGiGGL3Ah5aN9/mQCraQ0Jxt2Rrja0XcxODlMb/Usf8jFfrqGM6kWS2tHGW2XwEKeGzS5aybBZUqFrnbJF/FHnKl/xp8zScvHWVMZlVYSlYVRZMC+FoSyihq9xXIY9iFrEmvc3il3cYD2qM4zLbagxpEZhAunsrEmjQIRNApbQfQCktHcYQSWLJaLxeKdd975448/zgA6cmIuAPTfxlU9yoVCvqOO962wWPNyY0jTa1GL8o6sx6RZ87VSlfWuIdmBaE6Oxq40wf1CE3PfoJpmAuSOJWq5KssZP8mT0ndiAZSRYz4ow6gSabSMOSr0gGz+lCFMgIX7hyeukjVYcZdJr41ZwJTQL4o4Fslhymj5ECS7XJoMRbfbmg0JSlda1VMs07wupyUt6o1IGz0XI4hAZc2aHSGEQSR3QSadLE0EEUn6xwGojgedBSL5yHJepebIM1BgUB/XR3t3EVi+WK4/ZhzGJjg5lsYWtvVXMSQMBAKBQCAQOAsEhovlrVu3rl69euPGjUnifPjhh1evXr19+zx/SYH2ibhfbn7mZJJaMTkQCAQCgUBgFxEYLpbff//9fD5/9dVXb075e+WVV+bz+Q8//HCOoPqTJd9mMWfNc5QvWAcCgUAgEAhsCALDxfLevXvlE5OTGhcuXHjMD408Pob4QIUeVFQHzcfnEBQCgUAgEAgEth+B4WK5WCw++OCDSWWSJ3/66afbj19oGAgEAoFAILADCIwqlovF4t69e1Puwt68c+fODqAXKgYCgUAgEAjsBAJji+VOgBFKBgKBQCAQCAQCLQSiWLZQib5AIBAIBAKBQAAQ2JZiyZ/jdp8yBk07mvlTzNv7xh/8mPYS+HTANqk7vQn5nFhPknPqZPwM++reYn3G6LFSy34kn74xID7HPNWTYv4mIBDFMv0Kgf9yuGQ7KjOrS4Jn7B5nnHNRu3NkjWKsqr1iPzlj9KJYrspPgu6GI7ABxZKjN39DVXqBLwZbKforToIrld0TP+OciwKcI2sUY1XtFfvJRqF3VidL+EZA/7t7mDHqIzIZS5LJ9t5PWpWv7zTdDSmWcBOPPzpZx8AqjLjiJLgKkXtonmPOPUfWPYCc2tCK/WSj0DuLYkkZQHfM9rtH+JtjpQpSTdVcYS7tzFPzhiC0tQhsXrGU74OWaME9ZuthCW4z847Sf+cyFGOhL7tPeMVbsvh1BxqNI/wEF5afChlYRzoidxFSkkL1HdldOFg1M9POvXb68vGkGiBcydAjtlFzr3pmyXkqIzsavSTPwRH/LBSvVfWTJEYRcQ8SkYTJ366eudZQwDet1z/YgtIasghgCxlcWH4vrAczHRqNnpPHgGDxWSB0Rp6anftVHxNEzrvMaPWzbuA8zYcdzLqFnqJhW4SqkUEcNX9PusFETC8/FtS10PKIq0DAI7CRxbL1Azo+hJKyFMaSMihufWpOc+rUSUB1nxgMWZrmyXqs5ffFRJ4FJegm63oxzeyO85PrM003nC7NZIHC8apSFelVck2pH1lgmlxGaxHx2uDjfkrz+AoQ6TAKUpO2yJO1IIurRscH2ma7KxdWs/MXLjmhK2LHB9iG7N9GoMNPllXTOm2NnvGEWp7KFW8fzlQRS7aaKRCnV6dOr3dVVrBhaASgoa6NCMiJsrTaFUcjsIvl7DMpOlp6pZ0TuE2LXfQFAhmBDS6W9lhmozRrl0IFypgLM5rmAkycw0VXHnD9lLNKCZTl/jUlZc3gaZzStNY5v0R6qvLT/8u09WQi0lKzwiftLuAHn6mNqcQpLtLZVzetxbosaRulDEPDyePxLLNJhmJ6LpaIM4jU9JxMyFm2NdnpW6SAxmg1HTUQlY+G6GlWniFAEAGnmgjrBJCB/JrkKTWv5mjlqVa2vN2bplrUuCQJswzczrXWcs+KiJNbURnV4+sz1aXBKboCAUVgM4ulyemsjI0T7qNoKRkzH+zcHhaTkQLT2mJnTj7AbBwaInBhskzul0iGae1mjnxZ1nUapvFmHmyo2UpeMI2Kk4OrLR70eu5AE+ZJs39UZuVCDtZsnBW6JpNIdptSplpgSzc1Gk7VkLaPgtJrLNRBbfWiNyQPSVJvyFiT8U47pA5K6JRqSKi6DVHWmcMtYkS31MEllDsIKSGmQSo9+b40bj6GGceMnUVgM4slJwWTxzVO0JYpmM0uuPEzsy7ghUBHbBPN/OQLXjpysRDL94TxoJaGxhckVDCtwlNCpgPSqNYiQENNTR8yydy4Hi+bLpef8zUJqGbN5kNpa1gMQbnQHJd7rIEoPyJRvalAQx0GaoGAHA1FvqiktWLI2lzLzfJqoU7VFmT53AnokUUMRbowZHGOWmGC0zbUQZrMPlMG2Vha9NLU4/lav1XFJ7TYf1hr2vCJt2fuVipxGzb0UfqoWJHBoz1BjJi6YwhsZrGkCCkeTyaro1Q7IbnYJdnUNrTA/o2skUaXDrAWI4lkYNvVVL5Jfc2DuVJCxtSZQKvBndOH/clRmEYp0uxIgFx303MHmlJCgKwZ7SbLasIxwpwsiakmwWoyjXYUyw4rkyBNp3IiNilwQp+uZi964+RhASlGip94sk4N6ajVITfo8C5nOyNhGsXnDjVl4TjttZYnv7GLoCaOe3sAuz6qZIugPPXz4GlyxOxdQ2ATiyUFpKkWzbe68RPBjhQJdnYBX8Y6KlmrxpQ1fQ2/0Pf0rU/yHBzRbh3TAaVF3Ac0M2NLTa8g9qS2yTt9ssFYpRQnKcm2vm61BANq2kTZUi+oSS4hLGiFmeyZKtXew/0o2Vo1wHMcRcq/n9OiN5YIq4eGwDYo32hW6vR6F5iAKNFk8RnnPxVlWkEUcJfTkMh0MSDo/2xBtr5TEyQ0hZxoGicxXOIiEHAIbFyx5Erpo8tHgjl5OMW1ozsBMS88w/Gqrn6l2dGihZrTXTbpWFa6k6hXDg7s7hh31nDjqxa7qWaV09Mc3YVMFk/kxIWUj/Zn+p5DyqdyQGQkR74jkUhdP8lcKGkKHb7dJxsjzqfw3q5KTZEzv3K+LqTSqbTk4kZqrlZ3uNnjqYn1Zobo9cpj3rZq7qjLblKN67QoHcRC916WI3kIOAmNZuhSezbbLxssGyZcR+EWKDEUByiAFzE6G7xEbC2fhxHz0WgJMWKquphLO7OTXQwEAhmBDSmWcCtV8khWQKIXZ2gp5TxoxiSQGkOQXsVBKO/Leo06/zBmbLRLdiCaEuHCbfCVM46ooNMlE/GnI0i1XCwH1TQTDGWsecpqVIszbNIxJbXEAigjx3xQhtFu+sYWKWEf4VwE9uCYThsFXuKo6RWX5TYACNsFHuziW/eTSXWPsqyacqe6A71Uy4lT+Yc4mHBwqJrRrtsGZDukiR+0nV0/Ib1UTRhNnYmFxgKIun944ilLqTPsGuaputDWCQa73Izaofz+8wydw6diE5eBACKwAcUSxZ3U5mxlooWTuAbzJHox+XwRSJm31L/zFWWbubdK2jbrG7oFAuMQ2OZiSfto2AInRGirG8VynHOs2awolmdhkOFT+FlIETwCgbVDYJuLpT9Z8m0oc9ZcO4uEQF0IRLHsQuYx+08OrxzKo+DYTT4mmLF8axHY5mIpb5gsD3fgjQlba9AtViyK5cqMy48nOFDivsvKYA7CG43AlhfLjbZNCB8IBAKBQCCwJghEsVwTQ4QYgUAgEAgEAuuLQBTL9bVNSBYIBAKBQCCwJghEsVwTQ4QYgUAgEAgEAuuLQBTL9bVNSBYIBAKBQCCwJghEsRw2BH8ExXwl9PCivhn8CZbd+Xx90nfnvi0Fv0em98uD+jzl1MeyVOfz6an0NUnnCAV9Kia94xdkWO4bGJZbderGHEnwnGEfKeUGTIti2W8kDjCIrv7peXTgQw5RLEehuB2T1itV7W6xTEFHn4opja4fuB32uyiWwxht4YyNKJZlSwifmFzrT4MNFMst9KNelXbyZCmIrFexFKnO5fWUoJA7PZINXCrgzSgPy/2btEvgdlpO9zmITvUNX+NwiWI5Dqctm7U5xdKFxBpbIoqlMU4Uy0P7o6EGnd25OKViaQCjugVf3c5HZymBiWOukeVAmRuPU/AeZ62R/kwuVgH7mQi+bkw2vFgmPzg45oBJPz+U7zJJ8KSidXDEP3zIG02JIvjhQNiHwmgyFJ5oqyHzE/Cye0VGsu2l1zIBeDV+KmF2/YQnpPkU5/75itCt5elyLNlHqy5FGFmiQ+4HNwRP4VpST1qbYeex+k51vf23zywRByePUJ6yPRpWM+PJ0iJ6SX0APE2oH+nh2kqqniHGN02owUkjuHDML2eJtfphr761CrBFU1p5kh1nh7fZDdJQtg6YDO0lwVUE6m0YJ7HPCysQKmB7qeJgkq2I6tDW46NKkqyfVk3jiGHinGQ5a4q0AC96pnUSlDabTCy1BwgwNKpsIzyB3VQQEPida29BsZzN9uUnmfZn9ieExL9zLFG+MHFFnpS90I6St5VcQ+6lfuwubfaxvw/V8CkibjNy4j4r8u/PZimBSh53v2REAlRMG3wgdcpkimpl3aemAYSLny5cHB8UJPMPlgmLfGnh0slklHLJUY2JQJR1lbutIPeW2pwl9GoqC9JL65M4ifQQqUoXKJ9HBwUEO5PoKBeRVhKiXNPr7cOZzqzkMRPdRR/s+SEc1OaT6wf1odbLk0wwm+3PDm9nJ0xVBKaZn8ls2csJKR2VFYCmeGbBuQM9odTzmmJB3AnbtCQbt5gs07GS9BDPQzZMeL+iNJe2JuGTclB2Bh9xHfiwFeTQvKh+H2IIdiO5ch+GYcdnbEGx5NssFBUUM5DCtDObGYOEXKqUQ4nenOKbUSeTyac12XkXSnxlsh9t/lywZkzO++TQJH9i5AmWoRZ96ANq3GtI9alJAalxVQUksEhNzCb1Qtr/SjojebSOCuwlKRBdzgV9CFfs85kepO21kckmhKSIV3TJpJwuwNggmfrRu8q8ZmcZ5YaRpxrrvUTYuwSoCHh5FG11Qj74Ap5KJfmMbCy0t9FyJjCsx6HXIGu7DHSWY7adY9SIJkvTXdVh0ucV+TjYhK4mTMJjooDocGIjemqyTBIktCAMecVoa9ay7+D15hRLvp0g/7OHqQMl3+INGjkcJ1/ncOjlJswq07uFfINX0jd5WNkPVmvz/VuMgXoGipHH1MUr+ZNSLVEhPGryeA3hx92oGrZ5VMVwTP1k5KOjjiMWS6KPlUkK7ajkggxtu5epnVpzTJKz57h5XINNadc56nvS1zBrRwWVFfm1ubCa075U2JPbwRmrPb2ZOpU7WKflckzTQ93mpWRlHBHDNo/7+bKu8UricTKAQFPvBSENRHlzVnlggwF21RTqkyXOrb2rGrOX3SA3Nl6ID7aJpJreDTVIgRQAFPRGs4XA5hRLKVRGCw05TXlk/scrluRwUpfhFWQgLnkIwpWlc9FlhO4+WRL9Sn4plvbs5W51VhzKpQsGkG1ATUid+daokQERwLTlOGIS13RWJDSnUu2d1uplmkjl/Q0YU8qzeo5nqTnIjXn1mbaQlQXqotJDr93ymGn+wvMV92th69d7eTS9gsVNHieIALpRJ0slK0IAa69FGz1Z2v1KMueTbkbAWg0cHisZKZiYQlB3cLEUkIgsWNKaBmShRa8D+DhsVWU35IrlUtY00u3oRRTLpuFdeDRnpU6O1eqm69By79BwcqU40WLfVyxHbJCJGp6NUDZsew3TKPw1KiUUBiXlOI4qlkDKSzLc08uUKyXIb/AnNTsypierokDq107fak2j3NoljyehPSQPPEC1dxQ1Y+oK1/LyKBrNYkn4gKf1YYLclKz0Imtsy/iSr8AoFy20JozqBytTp4bYkO+pb2cJDc1+7+rVKYGA1oTJ/fhYAcxNBTdki+Wy1gTRdra5W8XSxHmPp0LpGuEZeT8LM30PDLZ2phrG5gxX8rgLV5slLXVzZVROI0iqT063EMlCVs3dQLaKc4re8hYMT9b38FlzxJZfRXJEQB5S2VAzCSXNNKNKtff5kyGCa2y7QiMNOo4jSbFbQt1iUnKy5JvGUIOtIPnKy6PcwawlOkpDqDmoZaB+RROUbaWIp0zrZZOvkZTTDqXVdprGO8ikcgGwg3UdJlySpcQubc3H8C5UmYSGfVIv7GOsScQFnw5IdrJ7l4olOYEGhvMb4wA0qpPNmHlHYvMuIoWT5AWzli6crw8VyzoPEn08L3oeuUcTRO6wsdSjZhrqVMEomKOrJB1MH8RuP38MnETAUfvOIFGCZB75LpK2mhYfSnblPSmkMuzorTwig7zyWsAB3g1rQJAF9WsDxn55agJ4bTjWsEsZLpqmjdfId8Py+YYE42JMKKV6wFzkrEYCjDUNWiG103u8FUmjCyo5rU3m0w0EqJAf0JajW5qZK1xSiiQh7aTsdTImh8ySp3ZSREjle0sSjLV3ddJMAwXk1qw+fJzYBO/hCdGhhVke6gfYR1hToq8o2BJuJ/s2p1jCDcHU5OjVTKQpDzybOmGhiYpeT03OwI6lyzXOqyFDNrsRJ8S8WIpuLQ8N6w6XlarllzxVnDit0uww4La0SiI5zU0yiDy0tltNijrVP7VEmHL/WVSwZJVmAi3JYAQ2ODTQsyE9oCENG3Aa+ADH/cMToi98aUj1anAzONiZnXwVAQBQQeiRpyEAdKFfmQ8XyRycAIbukUfRgEqD0UFtVsN+NEt4dr6qMMnlEiMIIv2MkECk+HRSTB6c3o6rf2LHskSZwpYIVKOJxXAmFgoN11CmyQGS+YDvstZEkB1HeaO4aqpBpCbLy5J4ip4i0IB90JrZVTBptITbvb6NKJZLmyU58chgWJrHti6k7GBSG2+E1xNPyn0R3tvqjKFXIHD+CESxPH8brKUE9U48CUlbziiWa2mvECoQCARWi0AUy9Xiu7nU3cmS7+3Ys+baqBcny7UxRQgSCGwnAlEst9Oup6KVPqfh5yb6UORUyJ8mkSiWp4lm0AoEAgGHwHYXS6dudAQCgUAgEAgEAtMRiGI5HbNYEQgEAoFAILBjCESx3DGDh7qBQCAQCAQC0xGIYjkds1gRCAQCgUAgsGMIRLHcMYOHuoFAIBAIBALTEYhiOR2zWBEIBAKBQCCwYwhEsdwxg4e6gUAgEAgEAtMRiGI5HbNYEQgEAoFAILBjCESx3DGDh7qBQCAQCAQC0xGIYjkds1gRCAQCgUAgsGMIRLHcMYOHuoFAIBAIBALTEfg/UVE38RPJ1O0AAAAASUVORK5CYII=)\n"
      ],
      "metadata": {
        "id": "Qm2iOyFVYs4i"
      }
    },
    {
      "cell_type": "code",
      "source": [
        "renda = float(input(\"Insira o valor da sua renda mensal: \"))\n",
        "parcela = float(input(\"Insira o valor da parcela desejada: \"))\n",
        "\n",
        "max_par = renda*0.3\n",
        "\n",
        "if renda <=2000 or parcela>max_par:\n",
        "  print(\"Empréstimo negado: parcela acima de 30% da renda.\")\n",
        "else:\n",
        "  print(\"Empréstimo aprovado.\")"
      ],
      "metadata": {
        "colab": {
          "base_uri": "https://localhost:8080/"
        },
        "id": "mdHVeRc8Y1Hv",
        "outputId": "b86f46c8-20ee-418b-d1d2-e14e825a73d8"
      },
      "execution_count": 67,
      "outputs": [
        {
          "output_type": "stream",
          "name": "stdout",
          "text": [
            "Insira o valor da sua renda mensal: 2500\n",
            "Insira o valor da parcela desejada: 100\n",
            "Empréstimo aprovado.\n"
          ]
        }
      ]
    }
  ]
}