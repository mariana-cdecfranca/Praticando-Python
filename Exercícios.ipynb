{
  "nbformat": 4,
  "nbformat_minor": 0,
  "metadata": {
    "colab": {
      "provenance": []
    },
    "kernelspec": {
      "name": "python3",
      "display_name": "Python 3"
    },
    "language_info": {
      "name": "python"
    }
  },
  "cells": [
    {
      "cell_type": "markdown",
      "source": [
        "# Python para ciência de dados"
      ],
      "metadata": {
        "id": "Oe4E_13lCB5E"
      }
    },
    {
      "cell_type": "markdown",
      "source": [
        "## Capítulos iniciais"
      ],
      "metadata": {
        "id": "OhvDD4sFl7O-"
      }
    },
    {
      "cell_type": "code",
      "execution_count": null,
      "metadata": {
        "colab": {
          "base_uri": "https://localhost:8080/"
        },
        "id": "UwWFX96a9T8X",
        "outputId": "36f7425f-b2c2-4c93-8924-813bbf216e21"
      },
      "outputs": [
        {
          "output_type": "stream",
          "name": "stdout",
          "text": [
            "estudar  - Pronto!\n"
          ]
        },
        {
          "output_type": "execute_result",
          "data": {
            "text/plain": [
              "['almoçar', 'lavar louças', 'programar', 'fazer exercícios']"
            ]
          },
          "metadata": {},
          "execution_count": 1
        }
      ],
      "source": [
        "my_list = [ 'estudar', 'almoçar','lavar louças', 'programar']\n",
        "\n",
        "from collections import deque\n",
        "\n",
        "teste=deque(my_list)\n",
        "teste.append('fazer exercícios')\n",
        "print(teste.popleft(), ' - Pronto!')\n",
        "list(teste)"
      ]
    },
    {
      "cell_type": "code",
      "source": [
        "stak=[]\n",
        "for task in my_list:\n",
        "  stak.append(task)\n",
        "\n",
        "while stak:\n",
        "  print(stak.pop(), '-Pronto!')\n",
        "\n",
        "stak"
      ],
      "metadata": {
        "colab": {
          "base_uri": "https://localhost:8080/"
        },
        "id": "xBk8pX-iCiC1",
        "outputId": "e12486d3-96a4-47a6-ff35-6d277c6cc64f"
      },
      "execution_count": null,
      "outputs": [
        {
          "output_type": "stream",
          "name": "stdout",
          "text": [
            "programar -Pronto!\n",
            "lavar louças -Pronto!\n",
            "almoçar -Pronto!\n",
            "estudar -Pronto!\n"
          ]
        },
        {
          "output_type": "execute_result",
          "data": {
            "text/plain": [
              "[]"
            ]
          },
          "metadata": {},
          "execution_count": 2
        }
      ]
    },
    {
      "cell_type": "code",
      "source": [
        "import spacy\n",
        "\n",
        "txt='my code is ok'\n",
        "\n",
        "npl=spacy.load('en_core_web_sm')\n",
        "\n",
        "doc=npl(txt)\n",
        "\n",
        "teste=[]\n",
        "\n",
        "\n",
        "for w in doc:\n",
        "  if w.pos_ == 'NOUN' or w.pos_ == 'PROPN':\n",
        "    teste.append(w.text)\n",
        "  elif (w.head.pos_ == 'NOUN' or w.head.pos_ == 'PROPN') and (w in w.head.lefts):\n",
        "    teste.append(w.text)\n",
        "  elif teste:\n",
        "    chunk = ''\n",
        "\n",
        "    while teste:\n",
        "      chunk = teste.pop() + ' ' + chunk\n",
        "\n",
        "    print(chunk.strip())\n"
      ],
      "metadata": {
        "colab": {
          "base_uri": "https://localhost:8080/"
        },
        "id": "d4Ea4ThyljaR",
        "outputId": "b5fbade9-6eb9-4bd8-b97c-548d162ead98"
      },
      "execution_count": null,
      "outputs": [
        {
          "output_type": "stream",
          "name": "stdout",
          "text": [
            "my code\n"
          ]
        }
      ]
    },
    {
      "cell_type": "code",
      "source": [
        "print(teste)"
      ],
      "metadata": {
        "colab": {
          "base_uri": "https://localhost:8080/"
        },
        "id": "1r-UwfVkor2S",
        "outputId": "a47803f4-3e1e-4384-f916-0bd1afb7efc8"
      },
      "execution_count": null,
      "outputs": [
        {
          "output_type": "stream",
          "name": "stdout",
          "text": [
            "[]\n"
          ]
        }
      ]
    },
    {
      "cell_type": "code",
      "source": [
        "tarefas = ['tomar café', 'trocar de roupas', 'trabalhar']\n",
        "ordem  = [1,2,3]\n",
        "\n",
        "lista = [(hora, tarefa) for hora, tarefa in zip(ordem, tarefas)]\n",
        "lista"
      ],
      "metadata": {
        "colab": {
          "base_uri": "https://localhost:8080/"
        },
        "id": "8D1NTOSnPHLg",
        "outputId": "a765f638-1ecd-46e1-aa2a-7f7b69042961"
      },
      "execution_count": null,
      "outputs": [
        {
          "output_type": "execute_result",
          "data": {
            "text/plain": [
              "[(1, 'tomar café'), (2, 'trocar de roupas'), (3, 'trabalhar')]"
            ]
          },
          "metadata": {},
          "execution_count": 4
        }
      ]
    },
    {
      "cell_type": "code",
      "source": [
        "lista[2][1]"
      ],
      "metadata": {
        "colab": {
          "base_uri": "https://localhost:8080/",
          "height": 35
        },
        "id": "7IzKt1Y9PQcF",
        "outputId": "5b86ce6b-fb50-42ec-80cb-637e044c3492"
      },
      "execution_count": null,
      "outputs": [
        {
          "output_type": "execute_result",
          "data": {
            "text/plain": [
              "'trabalhar'"
            ],
            "application/vnd.google.colaboratory.intrinsic+json": {
              "type": "string"
            }
          },
          "metadata": {},
          "execution_count": 5
        }
      ]
    },
    {
      "cell_type": "code",
      "source": [
        "dic_list = [\n",
        "            {'hora': '8:00', 'nome':'tomar café'},\n",
        "            {'hora': '9:00', 'nome':'trocar de roupas'}\n",
        "]\n"
      ],
      "metadata": {
        "id": "AOx4DYORRX92"
      },
      "execution_count": null,
      "outputs": []
    },
    {
      "cell_type": "code",
      "source": [
        "dic_list[1]['hora'] = '10:00'\n",
        "\n",
        "dic_list"
      ],
      "metadata": {
        "colab": {
          "base_uri": "https://localhost:8080/"
        },
        "id": "qvtBQefLR1UZ",
        "outputId": "1702ab2e-5098-4005-ab07-dda87758d0bb"
      },
      "execution_count": null,
      "outputs": [
        {
          "output_type": "execute_result",
          "data": {
            "text/plain": [
              "[{'hora': '8:00', 'nome': 'tomar café'},\n",
              " {'hora': '10:00', 'nome': 'trocar de roupas'}]"
            ]
          },
          "metadata": {},
          "execution_count": 10
        }
      ]
    },
    {
      "cell_type": "code",
      "source": [
        "txt = \"The interactions of radiations such as photons and electrons are stochastic and obey the laws of chance. For photon radiation, the concept of cross-section,with its relation to probability, follows directly\""
      ],
      "metadata": {
        "id": "Kwir1OO6Sk-P"
      },
      "execution_count": null,
      "outputs": []
    },
    {
      "cell_type": "code",
      "source": [
        "txt = txt.replace('.', '').replace(',','')\n",
        "txt_list = txt.split()\n",
        "txt_list"
      ],
      "metadata": {
        "colab": {
          "base_uri": "https://localhost:8080/"
        },
        "id": "jZB58oy5SlFT",
        "outputId": "1ae666ff-c91f-40d8-edbc-45d23e70a6d4"
      },
      "execution_count": null,
      "outputs": [
        {
          "output_type": "execute_result",
          "data": {
            "text/plain": [
              "['The',\n",
              " 'interactions',\n",
              " 'of',\n",
              " 'radiations',\n",
              " 'such',\n",
              " 'as',\n",
              " 'photons',\n",
              " 'and',\n",
              " 'electrons',\n",
              " 'are',\n",
              " 'stochastic',\n",
              " 'and',\n",
              " 'obey',\n",
              " 'the',\n",
              " 'laws',\n",
              " 'of',\n",
              " 'chance',\n",
              " 'For',\n",
              " 'photon',\n",
              " 'radiation',\n",
              " 'the',\n",
              " 'concept',\n",
              " 'of',\n",
              " 'cross-sectionwith',\n",
              " 'its',\n",
              " 'relation',\n",
              " 'to',\n",
              " 'probability',\n",
              " 'follows',\n",
              " 'directly']"
            ]
          },
          "metadata": {},
          "execution_count": 16
        }
      ]
    },
    {
      "cell_type": "code",
      "source": [
        "dic = {}\n",
        "for i in txt_list:\n",
        "  d = dic.setdefault(i,0)\n",
        "  dic[i] +=1\n",
        "\n",
        "\n",
        "dic"
      ],
      "metadata": {
        "colab": {
          "base_uri": "https://localhost:8080/"
        },
        "id": "B7DqCv2lTUeQ",
        "outputId": "bcf6c7f1-7975-4975-9eed-381c76026677"
      },
      "execution_count": null,
      "outputs": [
        {
          "output_type": "execute_result",
          "data": {
            "text/plain": [
              "{'The': 1,\n",
              " 'interactions': 1,\n",
              " 'of': 3,\n",
              " 'radiations': 1,\n",
              " 'such': 1,\n",
              " 'as': 1,\n",
              " 'photons': 1,\n",
              " 'and': 2,\n",
              " 'electrons': 1,\n",
              " 'are': 1,\n",
              " 'stochastic': 1,\n",
              " 'obey': 1,\n",
              " 'the': 2,\n",
              " 'laws': 1,\n",
              " 'chance': 1,\n",
              " 'For': 1,\n",
              " 'photon': 1,\n",
              " 'radiation': 1,\n",
              " 'concept': 1,\n",
              " 'cross-sectionwith': 1,\n",
              " 'its': 1,\n",
              " 'relation': 1,\n",
              " 'to': 1,\n",
              " 'probability': 1,\n",
              " 'follows': 1,\n",
              " 'directly': 1}"
            ]
          },
          "metadata": {},
          "execution_count": 19
        }
      ]
    },
    {
      "cell_type": "code",
      "source": [
        "lista = [\n",
        " {\n",
        "  \"name\": \"photo1.jpg\",\n",
        "  \"tags\": {'coffee', 'breakfast', 'drink', 'table', 'tableware', 'cup', 'food'}\n",
        " },\n",
        " {\n",
        "  \"name\": \"photo2.jpg\",\n",
        "  \"tags\": {'food', 'dish', 'meat', 'meal', 'tableware', 'dinner', 'vegetable'}\n",
        " },\n",
        " {\n",
        "  \"name\": \"photo3.jpg\",\n",
        "  \"tags\": {'city', 'skyline', 'cityscape', 'skyscraper', 'architecture', 'building', 'travel'}\n",
        " },\n",
        " {\n",
        "  \"name\": \"photo4.jpg\",\n",
        "  \"tags\": {'drink', 'juice', 'glass', 'meal', 'fruit', 'food', 'grapes'}\n",
        " }\n",
        "]"
      ],
      "metadata": {
        "id": "Np3H0fLfb9dU"
      },
      "execution_count": null,
      "outputs": []
    },
    {
      "cell_type": "code",
      "source": [
        "for i in range(1, len(lista)):\n",
        "  for j in range(i+1, len(lista)+1):\n",
        "    print(f'intersecting photo {i} with photo {j}')\n",
        "    a = lista[i-1]['tags']\n",
        "    b = lista[j-1]['tags']\n",
        "    inters = a.intersection(b)\n",
        "    p = (lista[i-1]['name'], lista[j-1]['name'])\n",
        "\n",
        "    if inters:\n",
        "\n",
        "      print(p)"
      ],
      "metadata": {
        "colab": {
          "base_uri": "https://localhost:8080/"
        },
        "id": "diBlwHYIzS5r",
        "outputId": "01fa939e-b647-44fd-eca0-09929466c5b4"
      },
      "execution_count": null,
      "outputs": [
        {
          "output_type": "stream",
          "name": "stdout",
          "text": [
            "intersecting photo 1 with photo 2\n",
            "('photo1.jpg', 'photo2.jpg')\n",
            "intersecting photo 1 with photo 3\n",
            "intersecting photo 1 with photo 4\n",
            "('photo1.jpg', 'photo4.jpg')\n",
            "intersecting photo 2 with photo 3\n",
            "intersecting photo 2 with photo 4\n",
            "('photo2.jpg', 'photo4.jpg')\n",
            "intersecting photo 3 with photo 4\n"
          ]
        }
      ]
    },
    {
      "cell_type": "code",
      "source": [
        "type(photos)"
      ],
      "metadata": {
        "colab": {
          "base_uri": "https://localhost:8080/"
        },
        "id": "_a_sfw4a8f8N",
        "outputId": "1984ca4f-f701-4916-aec1-c0a8ee4722fe"
      },
      "execution_count": null,
      "outputs": [
        {
          "output_type": "execute_result",
          "data": {
            "text/plain": [
              "tuple"
            ]
          },
          "metadata": {},
          "execution_count": 158
        }
      ]
    },
    {
      "cell_type": "code",
      "source": [
        "a = list(lista[i]['tags'])\n",
        "type(a)"
      ],
      "metadata": {
        "colab": {
          "base_uri": "https://localhost:8080/"
        },
        "id": "rw5h8Hhq0oQS",
        "outputId": "a7ec1396-5f2d-4949-9e8c-44b9c70a7b06"
      },
      "execution_count": null,
      "outputs": [
        {
          "output_type": "execute_result",
          "data": {
            "text/plain": [
              "list"
            ]
          },
          "metadata": {},
          "execution_count": 114
        }
      ]
    },
    {
      "cell_type": "markdown",
      "source": [
        "## Pandas"
      ],
      "metadata": {
        "id": "gM5INhXUnMwu"
      }
    },
    {
      "cell_type": "markdown",
      "source": [
        "Pandas"
      ],
      "metadata": {
        "id": "UeUUNjDcnSdB"
      }
    },
    {
      "cell_type": "code",
      "source": [
        "import pandas as pd\n",
        "\n",
        "data = ['Mariana', 'Caroline', 'de','Carvalho','França']\n",
        "\n",
        "my_serie = pd.Series(data)\n",
        "\n",
        "print(my_serie)"
      ],
      "metadata": {
        "id": "EHx0E8RAJYYi",
        "colab": {
          "base_uri": "https://localhost:8080/"
        },
        "outputId": "06bb2ba4-d283-4930-849f-5b112b5e57de"
      },
      "execution_count": null,
      "outputs": [
        {
          "output_type": "stream",
          "name": "stdout",
          "text": [
            "0     Mariana\n",
            "1    Caroline\n",
            "2          de\n",
            "3    Carvalho\n",
            "4      França\n",
            "dtype: object\n"
          ]
        }
      ]
    },
    {
      "cell_type": "markdown",
      "source": [
        "índices personalizados:"
      ],
      "metadata": {
        "id": "92fe6zhon9fk"
      }
    },
    {
      "cell_type": "code",
      "source": [
        "my_serie2 = pd.Series(data, index=[9000,9001,9002,9003,90004])\n",
        "print(my_serie2)"
      ],
      "metadata": {
        "colab": {
          "base_uri": "https://localhost:8080/"
        },
        "id": "_XxPfJxOn7gu",
        "outputId": "64c66e6d-c2dd-4dd4-e154-42e89fd09231"
      },
      "execution_count": null,
      "outputs": [
        {
          "output_type": "stream",
          "name": "stdout",
          "text": [
            "9000      Mariana\n",
            "9001     Caroline\n",
            "9002           de\n",
            "9003     Carvalho\n",
            "90004      França\n",
            "dtype: object\n"
          ]
        }
      ]
    },
    {
      "cell_type": "markdown",
      "source": [
        "Acessando índice:"
      ],
      "metadata": {
        "id": "9M0cs2Z0ocnJ"
      }
    },
    {
      "cell_type": "code",
      "source": [
        "print(my_serie2[9001])"
      ],
      "metadata": {
        "colab": {
          "base_uri": "https://localhost:8080/"
        },
        "id": "FF0Ozg_yoev8",
        "outputId": "f8256996-be76-4687-e866-aea1f65d94c5"
      },
      "execution_count": null,
      "outputs": [
        {
          "output_type": "stream",
          "name": "stdout",
          "text": [
            "Caroline\n"
          ]
        }
      ]
    },
    {
      "cell_type": "code",
      "source": [
        "print(my_serie2.loc[9001])"
      ],
      "metadata": {
        "id": "LlKRzqspooz0",
        "colab": {
          "base_uri": "https://localhost:8080/"
        },
        "outputId": "547cde76-a9f0-4a75-b950-05771afd1047"
      },
      "execution_count": null,
      "outputs": [
        {
          "output_type": "stream",
          "name": "stdout",
          "text": [
            "Caroline\n"
          ]
        }
      ]
    },
    {
      "cell_type": "markdown",
      "source": [
        "Procurando elemento por posição com iloc:"
      ],
      "metadata": {
        "id": "XXpq0EWLlmg-"
      }
    },
    {
      "cell_type": "code",
      "source": [
        "print(my_serie2.iloc[0])"
      ],
      "metadata": {
        "colab": {
          "base_uri": "https://localhost:8080/"
        },
        "id": "csSEg6mVll8W",
        "outputId": "e872a931-0964-4980-e9a2-349cb892d31e"
      },
      "execution_count": null,
      "outputs": [
        {
          "output_type": "stream",
          "name": "stdout",
          "text": [
            "Mariana\n"
          ]
        }
      ]
    },
    {
      "cell_type": "markdown",
      "source": [
        "Acessando API"
      ],
      "metadata": {
        "id": "zZ4M1qIlmLAT"
      }
    },
    {
      "cell_type": "code",
      "source": [
        "import yfinance as yf\n",
        "\n",
        "tkr = yf.Ticker('TSLA')\n",
        "\n",
        "hist = tkr.history(period = '5d')\n",
        "\n",
        "hist = hist.drop(\"Dividends\", axis = 1)\n",
        "\n",
        "hist = hist.drop(\"Stock Splits\", axis = 1)\n",
        "\n",
        "hist = hist.reset_index()\n",
        "\n",
        "hist"
      ],
      "metadata": {
        "colab": {
          "base_uri": "https://localhost:8080/",
          "height": 206
        },
        "id": "e8P8ObOlmW5v",
        "outputId": "3c183b6c-0876-4434-93f2-2794829af0a0"
      },
      "execution_count": null,
      "outputs": [
        {
          "output_type": "execute_result",
          "data": {
            "text/plain": [
              "                       Date        Open        High         Low       Close  \\\n",
              "0 2024-12-03 00:00:00-05:00  351.799988  355.690002  348.200012  351.420013   \n",
              "1 2024-12-04 00:00:00-05:00  353.000000  358.100006  348.600006  357.929993   \n",
              "2 2024-12-05 00:00:00-05:00  359.869995  375.429993  359.500000  369.489990   \n",
              "3 2024-12-06 00:00:00-05:00  377.420013  389.489990  370.799988  389.220001   \n",
              "4 2024-12-09 00:00:00-05:00  397.049988  404.799988  378.010010  382.970001   \n",
              "\n",
              "     Volume  \n",
              "0  58267200  \n",
              "1  50810900  \n",
              "2  81403600  \n",
              "3  80548300  \n",
              "4  68165736  "
            ],
            "text/html": [
              "\n",
              "  <div id=\"df-0d6a11fb-4026-465b-9edb-ca4841015c13\" class=\"colab-df-container\">\n",
              "    <div>\n",
              "<style scoped>\n",
              "    .dataframe tbody tr th:only-of-type {\n",
              "        vertical-align: middle;\n",
              "    }\n",
              "\n",
              "    .dataframe tbody tr th {\n",
              "        vertical-align: top;\n",
              "    }\n",
              "\n",
              "    .dataframe thead th {\n",
              "        text-align: right;\n",
              "    }\n",
              "</style>\n",
              "<table border=\"1\" class=\"dataframe\">\n",
              "  <thead>\n",
              "    <tr style=\"text-align: right;\">\n",
              "      <th></th>\n",
              "      <th>Date</th>\n",
              "      <th>Open</th>\n",
              "      <th>High</th>\n",
              "      <th>Low</th>\n",
              "      <th>Close</th>\n",
              "      <th>Volume</th>\n",
              "    </tr>\n",
              "  </thead>\n",
              "  <tbody>\n",
              "    <tr>\n",
              "      <th>0</th>\n",
              "      <td>2024-12-03 00:00:00-05:00</td>\n",
              "      <td>351.799988</td>\n",
              "      <td>355.690002</td>\n",
              "      <td>348.200012</td>\n",
              "      <td>351.420013</td>\n",
              "      <td>58267200</td>\n",
              "    </tr>\n",
              "    <tr>\n",
              "      <th>1</th>\n",
              "      <td>2024-12-04 00:00:00-05:00</td>\n",
              "      <td>353.000000</td>\n",
              "      <td>358.100006</td>\n",
              "      <td>348.600006</td>\n",
              "      <td>357.929993</td>\n",
              "      <td>50810900</td>\n",
              "    </tr>\n",
              "    <tr>\n",
              "      <th>2</th>\n",
              "      <td>2024-12-05 00:00:00-05:00</td>\n",
              "      <td>359.869995</td>\n",
              "      <td>375.429993</td>\n",
              "      <td>359.500000</td>\n",
              "      <td>369.489990</td>\n",
              "      <td>81403600</td>\n",
              "    </tr>\n",
              "    <tr>\n",
              "      <th>3</th>\n",
              "      <td>2024-12-06 00:00:00-05:00</td>\n",
              "      <td>377.420013</td>\n",
              "      <td>389.489990</td>\n",
              "      <td>370.799988</td>\n",
              "      <td>389.220001</td>\n",
              "      <td>80548300</td>\n",
              "    </tr>\n",
              "    <tr>\n",
              "      <th>4</th>\n",
              "      <td>2024-12-09 00:00:00-05:00</td>\n",
              "      <td>397.049988</td>\n",
              "      <td>404.799988</td>\n",
              "      <td>378.010010</td>\n",
              "      <td>382.970001</td>\n",
              "      <td>68165736</td>\n",
              "    </tr>\n",
              "  </tbody>\n",
              "</table>\n",
              "</div>\n",
              "    <div class=\"colab-df-buttons\">\n",
              "\n",
              "  <div class=\"colab-df-container\">\n",
              "    <button class=\"colab-df-convert\" onclick=\"convertToInteractive('df-0d6a11fb-4026-465b-9edb-ca4841015c13')\"\n",
              "            title=\"Convert this dataframe to an interactive table.\"\n",
              "            style=\"display:none;\">\n",
              "\n",
              "  <svg xmlns=\"http://www.w3.org/2000/svg\" height=\"24px\" viewBox=\"0 -960 960 960\">\n",
              "    <path d=\"M120-120v-720h720v720H120Zm60-500h600v-160H180v160Zm220 220h160v-160H400v160Zm0 220h160v-160H400v160ZM180-400h160v-160H180v160Zm440 0h160v-160H620v160ZM180-180h160v-160H180v160Zm440 0h160v-160H620v160Z\"/>\n",
              "  </svg>\n",
              "    </button>\n",
              "\n",
              "  <style>\n",
              "    .colab-df-container {\n",
              "      display:flex;\n",
              "      gap: 12px;\n",
              "    }\n",
              "\n",
              "    .colab-df-convert {\n",
              "      background-color: #E8F0FE;\n",
              "      border: none;\n",
              "      border-radius: 50%;\n",
              "      cursor: pointer;\n",
              "      display: none;\n",
              "      fill: #1967D2;\n",
              "      height: 32px;\n",
              "      padding: 0 0 0 0;\n",
              "      width: 32px;\n",
              "    }\n",
              "\n",
              "    .colab-df-convert:hover {\n",
              "      background-color: #E2EBFA;\n",
              "      box-shadow: 0px 1px 2px rgba(60, 64, 67, 0.3), 0px 1px 3px 1px rgba(60, 64, 67, 0.15);\n",
              "      fill: #174EA6;\n",
              "    }\n",
              "\n",
              "    .colab-df-buttons div {\n",
              "      margin-bottom: 4px;\n",
              "    }\n",
              "\n",
              "    [theme=dark] .colab-df-convert {\n",
              "      background-color: #3B4455;\n",
              "      fill: #D2E3FC;\n",
              "    }\n",
              "\n",
              "    [theme=dark] .colab-df-convert:hover {\n",
              "      background-color: #434B5C;\n",
              "      box-shadow: 0px 1px 3px 1px rgba(0, 0, 0, 0.15);\n",
              "      filter: drop-shadow(0px 1px 2px rgba(0, 0, 0, 0.3));\n",
              "      fill: #FFFFFF;\n",
              "    }\n",
              "  </style>\n",
              "\n",
              "    <script>\n",
              "      const buttonEl =\n",
              "        document.querySelector('#df-0d6a11fb-4026-465b-9edb-ca4841015c13 button.colab-df-convert');\n",
              "      buttonEl.style.display =\n",
              "        google.colab.kernel.accessAllowed ? 'block' : 'none';\n",
              "\n",
              "      async function convertToInteractive(key) {\n",
              "        const element = document.querySelector('#df-0d6a11fb-4026-465b-9edb-ca4841015c13');\n",
              "        const dataTable =\n",
              "          await google.colab.kernel.invokeFunction('convertToInteractive',\n",
              "                                                    [key], {});\n",
              "        if (!dataTable) return;\n",
              "\n",
              "        const docLinkHtml = 'Like what you see? Visit the ' +\n",
              "          '<a target=\"_blank\" href=https://colab.research.google.com/notebooks/data_table.ipynb>data table notebook</a>'\n",
              "          + ' to learn more about interactive tables.';\n",
              "        element.innerHTML = '';\n",
              "        dataTable['output_type'] = 'display_data';\n",
              "        await google.colab.output.renderOutput(dataTable, element);\n",
              "        const docLink = document.createElement('div');\n",
              "        docLink.innerHTML = docLinkHtml;\n",
              "        element.appendChild(docLink);\n",
              "      }\n",
              "    </script>\n",
              "  </div>\n",
              "\n",
              "\n",
              "<div id=\"df-d6abcce5-a209-4fa5-ba5f-f67e36699215\">\n",
              "  <button class=\"colab-df-quickchart\" onclick=\"quickchart('df-d6abcce5-a209-4fa5-ba5f-f67e36699215')\"\n",
              "            title=\"Suggest charts\"\n",
              "            style=\"display:none;\">\n",
              "\n",
              "<svg xmlns=\"http://www.w3.org/2000/svg\" height=\"24px\"viewBox=\"0 0 24 24\"\n",
              "     width=\"24px\">\n",
              "    <g>\n",
              "        <path d=\"M19 3H5c-1.1 0-2 .9-2 2v14c0 1.1.9 2 2 2h14c1.1 0 2-.9 2-2V5c0-1.1-.9-2-2-2zM9 17H7v-7h2v7zm4 0h-2V7h2v10zm4 0h-2v-4h2v4z\"/>\n",
              "    </g>\n",
              "</svg>\n",
              "  </button>\n",
              "\n",
              "<style>\n",
              "  .colab-df-quickchart {\n",
              "      --bg-color: #E8F0FE;\n",
              "      --fill-color: #1967D2;\n",
              "      --hover-bg-color: #E2EBFA;\n",
              "      --hover-fill-color: #174EA6;\n",
              "      --disabled-fill-color: #AAA;\n",
              "      --disabled-bg-color: #DDD;\n",
              "  }\n",
              "\n",
              "  [theme=dark] .colab-df-quickchart {\n",
              "      --bg-color: #3B4455;\n",
              "      --fill-color: #D2E3FC;\n",
              "      --hover-bg-color: #434B5C;\n",
              "      --hover-fill-color: #FFFFFF;\n",
              "      --disabled-bg-color: #3B4455;\n",
              "      --disabled-fill-color: #666;\n",
              "  }\n",
              "\n",
              "  .colab-df-quickchart {\n",
              "    background-color: var(--bg-color);\n",
              "    border: none;\n",
              "    border-radius: 50%;\n",
              "    cursor: pointer;\n",
              "    display: none;\n",
              "    fill: var(--fill-color);\n",
              "    height: 32px;\n",
              "    padding: 0;\n",
              "    width: 32px;\n",
              "  }\n",
              "\n",
              "  .colab-df-quickchart:hover {\n",
              "    background-color: var(--hover-bg-color);\n",
              "    box-shadow: 0 1px 2px rgba(60, 64, 67, 0.3), 0 1px 3px 1px rgba(60, 64, 67, 0.15);\n",
              "    fill: var(--button-hover-fill-color);\n",
              "  }\n",
              "\n",
              "  .colab-df-quickchart-complete:disabled,\n",
              "  .colab-df-quickchart-complete:disabled:hover {\n",
              "    background-color: var(--disabled-bg-color);\n",
              "    fill: var(--disabled-fill-color);\n",
              "    box-shadow: none;\n",
              "  }\n",
              "\n",
              "  .colab-df-spinner {\n",
              "    border: 2px solid var(--fill-color);\n",
              "    border-color: transparent;\n",
              "    border-bottom-color: var(--fill-color);\n",
              "    animation:\n",
              "      spin 1s steps(1) infinite;\n",
              "  }\n",
              "\n",
              "  @keyframes spin {\n",
              "    0% {\n",
              "      border-color: transparent;\n",
              "      border-bottom-color: var(--fill-color);\n",
              "      border-left-color: var(--fill-color);\n",
              "    }\n",
              "    20% {\n",
              "      border-color: transparent;\n",
              "      border-left-color: var(--fill-color);\n",
              "      border-top-color: var(--fill-color);\n",
              "    }\n",
              "    30% {\n",
              "      border-color: transparent;\n",
              "      border-left-color: var(--fill-color);\n",
              "      border-top-color: var(--fill-color);\n",
              "      border-right-color: var(--fill-color);\n",
              "    }\n",
              "    40% {\n",
              "      border-color: transparent;\n",
              "      border-right-color: var(--fill-color);\n",
              "      border-top-color: var(--fill-color);\n",
              "    }\n",
              "    60% {\n",
              "      border-color: transparent;\n",
              "      border-right-color: var(--fill-color);\n",
              "    }\n",
              "    80% {\n",
              "      border-color: transparent;\n",
              "      border-right-color: var(--fill-color);\n",
              "      border-bottom-color: var(--fill-color);\n",
              "    }\n",
              "    90% {\n",
              "      border-color: transparent;\n",
              "      border-bottom-color: var(--fill-color);\n",
              "    }\n",
              "  }\n",
              "</style>\n",
              "\n",
              "  <script>\n",
              "    async function quickchart(key) {\n",
              "      const quickchartButtonEl =\n",
              "        document.querySelector('#' + key + ' button');\n",
              "      quickchartButtonEl.disabled = true;  // To prevent multiple clicks.\n",
              "      quickchartButtonEl.classList.add('colab-df-spinner');\n",
              "      try {\n",
              "        const charts = await google.colab.kernel.invokeFunction(\n",
              "            'suggestCharts', [key], {});\n",
              "      } catch (error) {\n",
              "        console.error('Error during call to suggestCharts:', error);\n",
              "      }\n",
              "      quickchartButtonEl.classList.remove('colab-df-spinner');\n",
              "      quickchartButtonEl.classList.add('colab-df-quickchart-complete');\n",
              "    }\n",
              "    (() => {\n",
              "      let quickchartButtonEl =\n",
              "        document.querySelector('#df-d6abcce5-a209-4fa5-ba5f-f67e36699215 button');\n",
              "      quickchartButtonEl.style.display =\n",
              "        google.colab.kernel.accessAllowed ? 'block' : 'none';\n",
              "    })();\n",
              "  </script>\n",
              "</div>\n",
              "\n",
              "  <div id=\"id_991d9e25-f4a3-4584-a647-ca94b1fe12df\">\n",
              "    <style>\n",
              "      .colab-df-generate {\n",
              "        background-color: #E8F0FE;\n",
              "        border: none;\n",
              "        border-radius: 50%;\n",
              "        cursor: pointer;\n",
              "        display: none;\n",
              "        fill: #1967D2;\n",
              "        height: 32px;\n",
              "        padding: 0 0 0 0;\n",
              "        width: 32px;\n",
              "      }\n",
              "\n",
              "      .colab-df-generate:hover {\n",
              "        background-color: #E2EBFA;\n",
              "        box-shadow: 0px 1px 2px rgba(60, 64, 67, 0.3), 0px 1px 3px 1px rgba(60, 64, 67, 0.15);\n",
              "        fill: #174EA6;\n",
              "      }\n",
              "\n",
              "      [theme=dark] .colab-df-generate {\n",
              "        background-color: #3B4455;\n",
              "        fill: #D2E3FC;\n",
              "      }\n",
              "\n",
              "      [theme=dark] .colab-df-generate:hover {\n",
              "        background-color: #434B5C;\n",
              "        box-shadow: 0px 1px 3px 1px rgba(0, 0, 0, 0.15);\n",
              "        filter: drop-shadow(0px 1px 2px rgba(0, 0, 0, 0.3));\n",
              "        fill: #FFFFFF;\n",
              "      }\n",
              "    </style>\n",
              "    <button class=\"colab-df-generate\" onclick=\"generateWithVariable('hist')\"\n",
              "            title=\"Generate code using this dataframe.\"\n",
              "            style=\"display:none;\">\n",
              "\n",
              "  <svg xmlns=\"http://www.w3.org/2000/svg\" height=\"24px\"viewBox=\"0 0 24 24\"\n",
              "       width=\"24px\">\n",
              "    <path d=\"M7,19H8.4L18.45,9,17,7.55,7,17.6ZM5,21V16.75L18.45,3.32a2,2,0,0,1,2.83,0l1.4,1.43a1.91,1.91,0,0,1,.58,1.4,1.91,1.91,0,0,1-.58,1.4L9.25,21ZM18.45,9,17,7.55Zm-12,3A5.31,5.31,0,0,0,4.9,8.1,5.31,5.31,0,0,0,1,6.5,5.31,5.31,0,0,0,4.9,4.9,5.31,5.31,0,0,0,6.5,1,5.31,5.31,0,0,0,8.1,4.9,5.31,5.31,0,0,0,12,6.5,5.46,5.46,0,0,0,6.5,12Z\"/>\n",
              "  </svg>\n",
              "    </button>\n",
              "    <script>\n",
              "      (() => {\n",
              "      const buttonEl =\n",
              "        document.querySelector('#id_991d9e25-f4a3-4584-a647-ca94b1fe12df button.colab-df-generate');\n",
              "      buttonEl.style.display =\n",
              "        google.colab.kernel.accessAllowed ? 'block' : 'none';\n",
              "\n",
              "      buttonEl.onclick = () => {\n",
              "        google.colab.notebook.generateWithVariable('hist');\n",
              "      }\n",
              "      })();\n",
              "    </script>\n",
              "  </div>\n",
              "\n",
              "    </div>\n",
              "  </div>\n"
            ],
            "application/vnd.google.colaboratory.intrinsic+json": {
              "type": "dataframe",
              "variable_name": "hist",
              "summary": "{\n  \"name\": \"hist\",\n  \"rows\": 5,\n  \"fields\": [\n    {\n      \"column\": \"Date\",\n      \"properties\": {\n        \"dtype\": \"date\",\n        \"min\": \"2024-12-03 00:00:00-05:00\",\n        \"max\": \"2024-12-09 00:00:00-05:00\",\n        \"num_unique_values\": 5,\n        \"samples\": [\n          \"2024-12-04 00:00:00-05:00\",\n          \"2024-12-09 00:00:00-05:00\",\n          \"2024-12-05 00:00:00-05:00\"\n        ],\n        \"semantic_type\": \"\",\n        \"description\": \"\"\n      }\n    },\n    {\n      \"column\": \"Open\",\n      \"properties\": {\n        \"dtype\": \"number\",\n        \"std\": 19.274516162499456,\n        \"min\": 351.79998779296875,\n        \"max\": 397.04998779296875,\n        \"num_unique_values\": 5,\n        \"samples\": [\n          353.0,\n          397.04998779296875,\n          359.8699951171875\n        ],\n        \"semantic_type\": \"\",\n        \"description\": \"\"\n      }\n    },\n    {\n      \"column\": \"High\",\n      \"properties\": {\n        \"dtype\": \"number\",\n        \"std\": 20.869749838032696,\n        \"min\": 355.69000244140625,\n        \"max\": 404.79998779296875,\n        \"num_unique_values\": 5,\n        \"samples\": [\n          358.1000061035156,\n          404.79998779296875,\n          375.42999267578125\n        ],\n        \"semantic_type\": \"\",\n        \"description\": \"\"\n      }\n    },\n    {\n      \"column\": \"Low\",\n      \"properties\": {\n        \"dtype\": \"number\",\n        \"std\": 13.278058107303385,\n        \"min\": 348.20001220703125,\n        \"max\": 378.010009765625,\n        \"num_unique_values\": 5,\n        \"samples\": [\n          348.6000061035156,\n          378.010009765625,\n          359.5\n        ],\n        \"semantic_type\": \"\",\n        \"description\": \"\"\n      }\n    },\n    {\n      \"column\": \"Close\",\n      \"properties\": {\n        \"dtype\": \"number\",\n        \"std\": 16.035727976031346,\n        \"min\": 351.4200134277344,\n        \"max\": 389.2200012207031,\n        \"num_unique_values\": 5,\n        \"samples\": [\n          357.92999267578125,\n          382.9700012207031,\n          369.489990234375\n        ],\n        \"semantic_type\": \"\",\n        \"description\": \"\"\n      }\n    },\n    {\n      \"column\": \"Volume\",\n      \"properties\": {\n        \"dtype\": \"number\",\n        \"std\": 13483387,\n        \"min\": 50810900,\n        \"max\": 81403600,\n        \"num_unique_values\": 5,\n        \"samples\": [\n          50810900,\n          68165736,\n          81403600\n        ],\n        \"semantic_type\": \"\",\n        \"description\": \"\"\n      }\n    }\n  ]\n}"
            }
          },
          "metadata": {},
          "execution_count": 8
        }
      ]
    },
    {
      "cell_type": "code",
      "source": [],
      "metadata": {
        "id": "te6hscWPoffe"
      },
      "execution_count": null,
      "outputs": []
    },
    {
      "cell_type": "code",
      "source": [],
      "metadata": {
        "id": "I9Vj7oGqoSN4"
      },
      "execution_count": null,
      "outputs": []
    },
    {
      "cell_type": "markdown",
      "source": [
        "# Programador autodidata"
      ],
      "metadata": {
        "id": "Dci16W-1B5sE"
      }
    },
    {
      "cell_type": "markdown",
      "source": [
        "## Cap. 6 - Manipulação de strings"
      ],
      "metadata": {
        "id": "xYx-c7U2HZj_"
      }
    },
    {
      "cell_type": "code",
      "source": [
        "string = \"Camus\"\n",
        "\n",
        "for i in string:\n",
        "  print(i)"
      ],
      "metadata": {
        "id": "W-a7vRSZlTXD",
        "colab": {
          "base_uri": "https://localhost:8080/"
        },
        "outputId": "96717178-98b6-4a15-c8d2-649e858ebca4"
      },
      "execution_count": null,
      "outputs": [
        {
          "output_type": "stream",
          "name": "stdout",
          "text": [
            "C\n",
            "a\n",
            "m\n",
            "u\n",
            "s\n"
          ]
        }
      ]
    },
    {
      "cell_type": "code",
      "source": [
        "a = input()\n",
        "b = input()\n",
        "frase = f\"Yesterday I wrote a {a}. I send it to {b}\"\n",
        "print(frase)"
      ],
      "metadata": {
        "colab": {
          "base_uri": "https://localhost:8080/"
        },
        "id": "fZ4KlCqtA-OY",
        "outputId": "d3db3dbf-479d-427c-8934-5166587df5f7"
      },
      "execution_count": null,
      "outputs": [
        {
          "output_type": "stream",
          "name": "stdout",
          "text": [
            "n1\n",
            "n2\n",
            "Yesterday I wrote a n1. I send it to n2\n"
          ]
        }
      ]
    },
    {
      "cell_type": "code",
      "source": [
        "str1 = \"aldous Huxley was born in 1894\"\n",
        "\n",
        "str1.capitalize()"
      ],
      "metadata": {
        "colab": {
          "base_uri": "https://localhost:8080/",
          "height": 35
        },
        "id": "z3HvrY9xCHwx",
        "outputId": "637685ae-115f-4cac-b6ff-283b08cff504"
      },
      "execution_count": null,
      "outputs": [
        {
          "output_type": "execute_result",
          "data": {
            "text/plain": [
              "'Aldous huxley was born in 1894'"
            ],
            "application/vnd.google.colaboratory.intrinsic+json": {
              "type": "string"
            }
          },
          "metadata": {},
          "execution_count": 65
        }
      ]
    },
    {
      "cell_type": "code",
      "source": [
        "str2 = \"Where now? Who now? When now?\"\n",
        "\n",
        "str2.split(\"?\")\n"
      ],
      "metadata": {
        "colab": {
          "base_uri": "https://localhost:8080/"
        },
        "id": "d1CNz5QcCfx1",
        "outputId": "a27ccadb-ae6b-44c4-b4e7-a518bafa7913"
      },
      "execution_count": null,
      "outputs": [
        {
          "output_type": "execute_result",
          "data": {
            "text/plain": [
              "['Where now', ' Who now', ' When now', '']"
            ]
          },
          "metadata": {},
          "execution_count": 66
        }
      ]
    },
    {
      "cell_type": "code",
      "source": [
        "lst = [\"The\", \"fox\", \"jumped\", \"over\", \"the\", \"fence\",\".\"]\n",
        "\n",
        "frase2 = \" \".join(lst)\n",
        "\n",
        "frase2 = frase2[0:-2] + \".\"\n",
        "\n",
        "frase2"
      ],
      "metadata": {
        "colab": {
          "base_uri": "https://localhost:8080/",
          "height": 35
        },
        "id": "760mC41hFCrk",
        "outputId": "14270068-2af1-4d48-ac7f-617cdc794bda"
      },
      "execution_count": null,
      "outputs": [
        {
          "output_type": "execute_result",
          "data": {
            "text/plain": [
              "'The fox jumped over the fence.'"
            ],
            "application/vnd.google.colaboratory.intrinsic+json": {
              "type": "string"
            }
          },
          "metadata": {},
          "execution_count": 67
        }
      ]
    },
    {
      "cell_type": "code",
      "source": [
        "frase2[0:-2]"
      ],
      "metadata": {
        "colab": {
          "base_uri": "https://localhost:8080/",
          "height": 35
        },
        "id": "Wq3Mg31kGMLZ",
        "outputId": "b132636f-56b5-4791-a3bb-83e12d0c1b2a"
      },
      "execution_count": null,
      "outputs": [
        {
          "output_type": "execute_result",
          "data": {
            "text/plain": [
              "'The fox jumped over the fenc'"
            ],
            "application/vnd.google.colaboratory.intrinsic+json": {
              "type": "string"
            }
          },
          "metadata": {},
          "execution_count": 68
        }
      ]
    },
    {
      "cell_type": "code",
      "source": [
        "frase3 = \"A screaming comes across the sky.\"\n",
        "\n",
        "frase3.replace(\"s\", \"$\")"
      ],
      "metadata": {
        "colab": {
          "base_uri": "https://localhost:8080/",
          "height": 35
        },
        "id": "76GYRuN-Ga4V",
        "outputId": "81d69d79-4c19-4876-bff3-0c4a5e0e6ef3"
      },
      "execution_count": null,
      "outputs": [
        {
          "output_type": "execute_result",
          "data": {
            "text/plain": [
              "'A $creaming come$ acro$$ the $ky.'"
            ],
            "application/vnd.google.colaboratory.intrinsic+json": {
              "type": "string"
            }
          },
          "metadata": {},
          "execution_count": 69
        }
      ]
    },
    {
      "cell_type": "code",
      "source": [
        "plv = \"Hemongway\"\n",
        "\n",
        "plv.index(\"m\")"
      ],
      "metadata": {
        "colab": {
          "base_uri": "https://localhost:8080/"
        },
        "id": "upMCvDZ-Gsm3",
        "outputId": "5e6cf452-c44b-42f8-e44c-c0ec73c2b166"
      },
      "execution_count": null,
      "outputs": [
        {
          "output_type": "execute_result",
          "data": {
            "text/plain": [
              "2"
            ]
          },
          "metadata": {},
          "execution_count": 70
        }
      ]
    },
    {
      "cell_type": "code",
      "source": [
        "str3 = \"three \"\n",
        "str4 = \"three\"\n",
        "str5 = \"three\"\n",
        "\n",
        "print(str3 + \" \" + str4 + \" \" + str5)\n",
        "\n",
        "print(3*str3)\n"
      ],
      "metadata": {
        "colab": {
          "base_uri": "https://localhost:8080/"
        },
        "id": "AfUTcnjyHiAO",
        "outputId": "f2e2c41a-ed1f-412e-b067-a399f9e39394"
      },
      "execution_count": null,
      "outputs": [
        {
          "output_type": "stream",
          "name": "stdout",
          "text": [
            "three  three three\n",
            "three three three \n"
          ]
        }
      ]
    },
    {
      "cell_type": "code",
      "source": [
        "frase4 = \"It was a bright cold day in April, and the clocks were strinking thirteen\"\n",
        "\n",
        "frase4[0:33]"
      ],
      "metadata": {
        "colab": {
          "base_uri": "https://localhost:8080/",
          "height": 35
        },
        "id": "mEC8G1XnIeQ2",
        "outputId": "560823b4-caf9-42ac-d81e-b6ab86fca036"
      },
      "execution_count": null,
      "outputs": [
        {
          "output_type": "execute_result",
          "data": {
            "text/plain": [
              "'It was a bright cold day in April'"
            ],
            "application/vnd.google.colaboratory.intrinsic+json": {
              "type": "string"
            }
          },
          "metadata": {},
          "execution_count": 72
        }
      ]
    },
    {
      "cell_type": "markdown",
      "source": [
        "## Cap. 7 - Loops"
      ],
      "metadata": {
        "id": "t68NsShxJH7G"
      }
    },
    {
      "cell_type": "code",
      "source": [
        "nome = \"Mariana\"\n",
        "\n",
        "for i in nome:\n",
        "  print(i)"
      ],
      "metadata": {
        "colab": {
          "base_uri": "https://localhost:8080/"
        },
        "id": "X8FKbKkvJKX9",
        "outputId": "d8abdc47-84eb-4237-965e-9c762bb988a4"
      },
      "execution_count": null,
      "outputs": [
        {
          "output_type": "stream",
          "name": "stdout",
          "text": [
            "M\n",
            "a\n",
            "r\n",
            "i\n",
            "a\n",
            "n\n",
            "a\n"
          ]
        }
      ]
    },
    {
      "cell_type": "code",
      "source": [
        "bandas = ['SOAD', 'Slipknot', 'Linkin Park', 'Nirvana']\n",
        "\n",
        "for i in bandas:\n",
        "  print(i)"
      ],
      "metadata": {
        "colab": {
          "base_uri": "https://localhost:8080/"
        },
        "id": "Fx3AF_M8KB8y",
        "outputId": "c6c08202-6715-46e0-8602-ec443a80f616"
      },
      "execution_count": null,
      "outputs": [
        {
          "output_type": "stream",
          "name": "stdout",
          "text": [
            "SOAD\n",
            "Slipknot\n",
            "Linkin Park\n",
            "Nirvana\n"
          ]
        }
      ]
    },
    {
      "cell_type": "code",
      "source": [
        "pessoas = {\"Pessoa 1\": \"Mariana\",\n",
        "           \"Pessoa 2 \": \"João\",\n",
        "           \"Pessoa 3\": \"Paula\"}\n",
        "\n",
        "for i in pessoas:\n",
        "  print(i)"
      ],
      "metadata": {
        "colab": {
          "base_uri": "https://localhost:8080/"
        },
        "id": "VWrY0s5lKZ9M",
        "outputId": "0e614279-0347-4eba-eb54-5b83a50f946f"
      },
      "execution_count": null,
      "outputs": [
        {
          "output_type": "stream",
          "name": "stdout",
          "text": [
            "Pessoa 1\n",
            "Pessoa 2 \n",
            "Pessoa 3\n"
          ]
        }
      ]
    },
    {
      "cell_type": "code",
      "source": [
        "lst1 = [\"Maçã\", \"Pera\", \"Laranja\", \"Morango\"]\n",
        "i=0\n",
        "for fruta in lst1:\n",
        "  new=lst1[i]\n",
        "  new = new.upper()\n",
        "  lst1[i] = new\n",
        "  i+=1\n",
        "\n",
        "print(lst1)"
      ],
      "metadata": {
        "colab": {
          "base_uri": "https://localhost:8080/"
        },
        "id": "xNg4loIoLVw3",
        "outputId": "09dc1487-324d-40f7-def0-60e3d78b8363"
      },
      "execution_count": null,
      "outputs": [
        {
          "output_type": "stream",
          "name": "stdout",
          "text": [
            "['MAÇÃ', 'PERA', 'LARANJA', 'MORANGO']\n"
          ]
        }
      ]
    },
    {
      "cell_type": "code",
      "source": [
        "list(enumerate(lst1))\n",
        "\n",
        "for i,show in enumerate(lst1):\n",
        "  new = lst1[i]\n",
        "  new = new.upper()\n",
        "  lst1[i] = new\n",
        "\n",
        "print(lst1)"
      ],
      "metadata": {
        "colab": {
          "base_uri": "https://localhost:8080/"
        },
        "id": "mj1HEFHKNk9n",
        "outputId": "fc9c1c3f-7669-4dca-9a1e-81e230bd0796"
      },
      "execution_count": null,
      "outputs": [
        {
          "output_type": "stream",
          "name": "stdout",
          "text": [
            "['MAÇÃ', 'PERA', 'LARANJA', 'MORANGO']\n"
          ]
        }
      ]
    },
    {
      "cell_type": "code",
      "source": [
        "i = 1\n",
        "while i<=5:\n",
        "  if i==3:\n",
        "    i+=1\n",
        "    continue\n",
        "\n",
        "  print(i)\n",
        "\n",
        "  i+=1"
      ],
      "metadata": {
        "colab": {
          "base_uri": "https://localhost:8080/"
        },
        "id": "K2xhG8ALTE_5",
        "outputId": "5c43ce5c-5777-44b5-a351-0e8835e88fb1"
      },
      "execution_count": null,
      "outputs": [
        {
          "output_type": "stream",
          "name": "stdout",
          "text": [
            "1\n",
            "2\n",
            "4\n",
            "5\n"
          ]
        }
      ]
    },
    {
      "cell_type": "code",
      "source": [
        "i = 1\n",
        "while i<=5:\n",
        "  if i==3:\n",
        "    i+=1\n",
        "    break\n",
        "\n",
        "  print(i)\n",
        "\n",
        "  i+=1"
      ],
      "metadata": {
        "colab": {
          "base_uri": "https://localhost:8080/"
        },
        "id": "QhLqM8nUMOzm",
        "outputId": "f272fcaf-4770-486c-9ad2-2df925280104"
      },
      "execution_count": null,
      "outputs": [
        {
          "output_type": "stream",
          "name": "stdout",
          "text": [
            "1\n",
            "2\n"
          ]
        }
      ]
    },
    {
      "cell_type": "code",
      "source": [
        "for i in range(1,5):\n",
        "  print(i, end=' ')\n",
        "  for j in ['a', 'b','c']:\n",
        "    print(j, end=' ')"
      ],
      "metadata": {
        "colab": {
          "base_uri": "https://localhost:8080/"
        },
        "id": "4eUOQRzlMhRn",
        "outputId": "b7c10c6d-92ed-4429-c61f-9fdfe464e5ca"
      },
      "execution_count": null,
      "outputs": [
        {
          "output_type": "stream",
          "name": "stdout",
          "text": [
            "1 a b c 2 a b c 3 a b c 4 a b c "
          ]
        }
      ]
    },
    {
      "cell_type": "code",
      "source": [
        "lst2 = [1,2,3,4]\n",
        "lst3 = [5,6,7,8]\n",
        "\n",
        "completa = []\n",
        "\n",
        "for i in lst2:\n",
        "  for j in lst3:\n",
        "    completa.append(i+j)\n",
        "\n",
        "print(completa)"
      ],
      "metadata": {
        "colab": {
          "base_uri": "https://localhost:8080/"
        },
        "id": "CS2e4AgtM3FI",
        "outputId": "44a902d2-76d2-47bb-ee59-7f20d20ddd83"
      },
      "execution_count": null,
      "outputs": [
        {
          "output_type": "stream",
          "name": "stdout",
          "text": [
            "[6, 7, 8, 9, 7, 8, 9, 10, 8, 9, 10, 11, 9, 10, 11, 12]\n"
          ]
        }
      ]
    },
    {
      "cell_type": "code",
      "source": [
        "while input('y or n') != 'n':\n",
        "  for i in range(1,3):\n",
        "    print(i)"
      ],
      "metadata": {
        "colab": {
          "base_uri": "https://localhost:8080/"
        },
        "id": "eyt72FpUN77-",
        "outputId": "9c21905d-cc08-4d8e-d036-40de54bd6621"
      },
      "execution_count": null,
      "outputs": [
        {
          "name": "stdout",
          "output_type": "stream",
          "text": [
            "y or ny\n",
            "1\n",
            "2\n",
            "y or ny\n",
            "1\n",
            "2\n",
            "y or n3\n",
            "1\n",
            "2\n",
            "y or nn\n"
          ]
        }
      ]
    },
    {
      "cell_type": "code",
      "source": [
        "lst5 = [\"TWD\", \"La casa de papel\", \"Dexter\", \"Resident\"]\n",
        "\n",
        "for i in lst5:\n",
        "  print(i)"
      ],
      "metadata": {
        "colab": {
          "base_uri": "https://localhost:8080/"
        },
        "id": "XpObtitHPAVT",
        "outputId": "5a83614d-44ec-4d64-e16a-cb6b38e3bbd0"
      },
      "execution_count": null,
      "outputs": [
        {
          "output_type": "stream",
          "name": "stdout",
          "text": [
            "TWD\n",
            "La casa de papel\n",
            "Dexter\n",
            "Resident\n"
          ]
        }
      ]
    },
    {
      "cell_type": "code",
      "source": [
        "for i in range(25,31):\n",
        "  print(i)"
      ],
      "metadata": {
        "colab": {
          "base_uri": "https://localhost:8080/"
        },
        "id": "XYJWANJjPgct",
        "outputId": "2aa8ef93-ca18-4e2b-cfc1-7e5c2f5bb1b1"
      },
      "execution_count": null,
      "outputs": [
        {
          "output_type": "stream",
          "name": "stdout",
          "text": [
            "25\n",
            "26\n",
            "27\n",
            "28\n",
            "29\n",
            "30\n"
          ]
        }
      ]
    },
    {
      "cell_type": "code",
      "source": [
        "for i in lst5:\n",
        "  print(i, lst5.index(i))"
      ],
      "metadata": {
        "colab": {
          "base_uri": "https://localhost:8080/"
        },
        "id": "cDEGB_zYPnt7",
        "outputId": "352c208f-b2e4-43b1-b1f0-b619592fb553"
      },
      "execution_count": null,
      "outputs": [
        {
          "output_type": "stream",
          "name": "stdout",
          "text": [
            "TWD 0\n",
            "La casa de papel 1\n",
            "Dexter 2\n",
            "Resident 3\n"
          ]
        }
      ]
    },
    {
      "cell_type": "code",
      "source": [
        "lista_num = [1,2,4,8]\n",
        "\n",
        "#resp2 = input('digite um número inteiro')\n",
        "while True:\n",
        "  resp = input('c - continue or q - quit ')\n",
        "  if resp =='q':\n",
        "    break\n",
        "  if int(input('number ')) in lista_num:\n",
        "      print(\"acertou\")\n",
        "      break\n",
        "  else:\n",
        "      print(\"passou longe, tente novamente\")"
      ],
      "metadata": {
        "colab": {
          "base_uri": "https://localhost:8080/"
        },
        "id": "ArceMES1QcqB",
        "outputId": "6af1c94e-2890-4bd9-a1e1-f31f5c8da00c"
      },
      "execution_count": null,
      "outputs": [
        {
          "output_type": "stream",
          "name": "stdout",
          "text": [
            "c - continue or q - quit c\n",
            "number 7\n",
            "passou longe, tente novamente\n",
            "c - continue or q - quit c\n",
            "number 2\n",
            "acertou\n"
          ]
        }
      ]
    },
    {
      "cell_type": "code",
      "source": [
        "l1 = [8,19,148,4]\n",
        "l2 = [9,1,33,83]\n",
        "\n",
        "l3 = []\n",
        "\n",
        "for i in l1:\n",
        "  for j in l2:\n",
        "    l3.append(i*j)\n",
        "\n",
        "l3"
      ],
      "metadata": {
        "colab": {
          "base_uri": "https://localhost:8080/"
        },
        "id": "NcYxqC7JXPoP",
        "outputId": "a916a4d9-8cee-4421-8ed7-c9a5ad216eac"
      },
      "execution_count": null,
      "outputs": [
        {
          "output_type": "execute_result",
          "data": {
            "text/plain": [
              "[72, 8, 264, 664, 171, 19, 627, 1577, 1332, 148, 4884, 12284, 36, 4, 132, 332]"
            ]
          },
          "metadata": {},
          "execution_count": 59
        }
      ]
    },
    {
      "cell_type": "markdown",
      "source": [
        "## Cap. 8 - Módulos"
      ],
      "metadata": {
        "id": "u8BXNWv7X2pp"
      }
    },
    {
      "cell_type": "code",
      "source": [
        "import random\n",
        "random.randint(0,100)"
      ],
      "metadata": {
        "colab": {
          "base_uri": "https://localhost:8080/"
        },
        "id": "-z7DSfWFX5DV",
        "outputId": "fbec84f8-f9ba-4a5f-81cb-34676f32b8e3"
      },
      "execution_count": null,
      "outputs": [
        {
          "output_type": "execute_result",
          "data": {
            "text/plain": [
              "39"
            ]
          },
          "metadata": {},
          "execution_count": 74
        }
      ]
    },
    {
      "cell_type": "code",
      "source": [
        "# MÓDULO cubed - cubed.py\n",
        "'''def cubo(number):\n",
        "  return number**3'''"
      ],
      "metadata": {
        "id": "JQsUS7VbbV0c"
      },
      "execution_count": null,
      "outputs": []
    },
    {
      "cell_type": "code",
      "source": [
        "import cubed\n",
        "\n",
        "cubo(3)"
      ],
      "metadata": {
        "colab": {
          "base_uri": "https://localhost:8080/"
        },
        "id": "ydmjdJ0tZNOW",
        "outputId": "e0b1886d-016d-472c-9161-73194db00ef0"
      },
      "execution_count": null,
      "outputs": [
        {
          "output_type": "execute_result",
          "data": {
            "text/plain": [
              "27"
            ]
          },
          "metadata": {},
          "execution_count": 84
        }
      ]
    },
    {
      "cell_type": "markdown",
      "source": [
        "## Cap. 9 - Arquivos"
      ],
      "metadata": {
        "id": "tdl_m8Doml6e"
      }
    },
    {
      "cell_type": "code",
      "source": [
        "import csv\n",
        "\n",
        "with open(\"texte.csv\", \"w\", newline='') as f:\n",
        "  w=csv.writer(f, delimiter=',')\n",
        "\n",
        "\n",
        "  w.writerow(['cabeça', 'ombro', 'joelho', 'pé'])\n",
        "  w.writerow([1,2,3,4])"
      ],
      "metadata": {
        "id": "JY_uYYXkmthH"
      },
      "execution_count": null,
      "outputs": []
    },
    {
      "cell_type": "code",
      "source": [
        "import csv\n",
        "\n",
        "with open('texte.csv', 'r') as f:\n",
        "  r = csv.reader(f, delimiter=',')\n",
        "  for row in r:\n",
        "    print(','.join(row))"
      ],
      "metadata": {
        "colab": {
          "base_uri": "https://localhost:8080/"
        },
        "id": "qgaO7wCWqRA0",
        "outputId": "45a6bf2e-ca64-48a1-f7f4-4263dd34375c"
      },
      "execution_count": null,
      "outputs": [
        {
          "output_type": "stream",
          "name": "stdout",
          "text": [
            "cabeça,ombro,joelho,pé\n",
            "1,2,3,4\n"
          ]
        }
      ]
    },
    {
      "cell_type": "code",
      "source": [
        "user = input(\"escreva seu nome: \")\n",
        "\n",
        "with open(\"users.txt\", \"w\") as f:\n",
        "  w = f.write(user)\n"
      ],
      "metadata": {
        "colab": {
          "base_uri": "https://localhost:8080/"
        },
        "id": "hQhK86ezrUYD",
        "outputId": "ae2a054b-4280-4fa1-fc67-4045f85920e8"
      },
      "execution_count": null,
      "outputs": [
        {
          "name": "stdout",
          "output_type": "stream",
          "text": [
            "escreva seu nome: mariana\n"
          ]
        }
      ]
    },
    {
      "cell_type": "markdown",
      "source": [
        "# Exercícios avulsos"
      ],
      "metadata": {
        "id": "GfUK5tMmJayf"
      }
    },
    {
      "cell_type": "markdown",
      "source": [
        "### 1 Exercício: Jogo de Adivinhação com Loop\n",
        "Descrição:\n",
        "Implemente um jogo no qual o programa escolhe um número aleatório entre 1 e 100. O jogador deve adivinhar qual é o número, e o programa deve fornecer dicas se o palpite foi maior ou menor que o número sorteado. O jogo continua até o jogador acertar o número. Ao final, mostre quantas tentativas foram necessárias para acertar.\n",
        "\n",
        "Regras:\n",
        "\n",
        "1. Use um while loop para continuar o jogo até que o jogador acerte.\n",
        "2. Imprima uma mensagem após cada tentativa para orientar o jogador.\n",
        "3. Ao acertar, exiba o número de tentativas usadas."
      ],
      "metadata": {
        "id": "13oGyqvqJ3AS"
      }
    },
    {
      "cell_type": "code",
      "source": [
        "import random\n",
        "numero = random.randint(1,100)\n",
        "\n",
        "user = 0\n",
        "tentativas = 0\n",
        "while user!=numero:\n",
        "  user = int(input(\"Insira um número inteiro de 1 a 100: \"))\n",
        "  tentativas+=1\n",
        "  if user == numero:\n",
        "    print(\"você acertou!!!\")\n",
        "    print(\"Número de tentativas:\", tentativas)\n",
        "    break\n",
        "  else:\n",
        "    print(\"passou longe, tente novamente\")\n",
        "\n"
      ],
      "metadata": {
        "colab": {
          "base_uri": "https://localhost:8080/"
        },
        "id": "0bwTw7GgJhCe",
        "outputId": "d2cd3a34-11bc-4e3f-fd79-7dafef777e30"
      },
      "execution_count": null,
      "outputs": [
        {
          "output_type": "stream",
          "name": "stdout",
          "text": [
            "Insira um número inteiro de 1 a 100: 1\n",
            "passou longe, tente novamente\n",
            "Insira um número inteiro de 1 a 100: 5\n",
            "passou longe, tente novamente\n",
            "Insira um número inteiro de 1 a 100: 15\n",
            "passou longe, tente novamente\n",
            "Insira um número inteiro de 1 a 100: 10\n",
            "você acertou!!!\n",
            "Número de tentativas: 4\n"
          ]
        }
      ]
    },
    {
      "cell_type": "markdown",
      "source": [
        "### 2 Exercício: Tabuada com Loop\n",
        "Descrição:\n",
        "Crie um programa que peça ao usuário para inserir um número e exiba a tabuada desse número de 1 a 10. O programa deve usar um loop for para exibir os resultados."
      ],
      "metadata": {
        "id": "kwl8_5EEMm9S"
      }
    },
    {
      "cell_type": "code",
      "source": [
        "user_num = int(input(\"insira um número de 1 a 10: \"))\n",
        "\n",
        "\n",
        "for i in range(1,11):\n",
        "  mult = user_num*i\n",
        "  print(f\"{user_num} * {i} =  {mult}\")"
      ],
      "metadata": {
        "colab": {
          "base_uri": "https://localhost:8080/"
        },
        "id": "KYMygMqpkFA8",
        "outputId": "82bf2ac8-def6-4307-9486-080ac2d9fe95"
      },
      "execution_count": null,
      "outputs": [
        {
          "output_type": "stream",
          "name": "stdout",
          "text": [
            "insira um número de 1 a 10: 3\n",
            "3 * 1 =  3\n",
            "3 * 2 =  6\n",
            "3 * 3 =  9\n",
            "3 * 4 =  12\n",
            "3 * 5 =  15\n",
            "3 * 6 =  18\n",
            "3 * 7 =  21\n",
            "3 * 8 =  24\n",
            "3 * 9 =  27\n",
            "3 * 10 =  30\n"
          ]
        }
      ]
    },
    {
      "cell_type": "markdown",
      "source": [
        "### 3 Exercício: FizzBuzz\n",
        "Escreva um programa que exiba números de 1 a 50, mas:\n",
        "\n",
        "1. Para números divisíveis por 3, imprima \"Fizz\" em vez do número.\n",
        "2. Para números divisíveis por 5, imprima \"Buzz\" em vez do número.\n",
        "3. Para números divisíveis por 3 e 5, imprima \"FizzBuzz\" em vez do número."
      ],
      "metadata": {
        "id": "vnfx19N1l2q0"
      }
    },
    {
      "cell_type": "code",
      "source": [
        "for i in range(1,51):\n",
        "  if i % 3 == 0 and i % 5 == 0:\n",
        "    print(f\"FizzBuzz - {i}\")\n",
        "  elif i % 3 == 0:\n",
        "    print(f\"Fizz - {i}\")\n",
        "  elif i % 5 == 0:\n",
        "    print(f\"Buzz - {i}\")\n",
        "  else:\n",
        "    print(i)"
      ],
      "metadata": {
        "colab": {
          "base_uri": "https://localhost:8080/"
        },
        "id": "RiT6jp1El10D",
        "outputId": "09712153-4412-4b95-a9ce-38d7b37ac6c7"
      },
      "execution_count": null,
      "outputs": [
        {
          "output_type": "stream",
          "name": "stdout",
          "text": [
            "1\n",
            "2\n",
            "Fizz - 3\n",
            "4\n",
            "Buzz - 5\n",
            "Fizz - 6\n",
            "7\n",
            "8\n",
            "Fizz - 9\n",
            "Buzz - 10\n",
            "11\n",
            "Fizz - 12\n",
            "13\n",
            "14\n",
            "FizzBuzz - 15\n",
            "16\n",
            "17\n",
            "Fizz - 18\n",
            "19\n",
            "Buzz - 20\n",
            "Fizz - 21\n",
            "22\n",
            "23\n",
            "Fizz - 24\n",
            "Buzz - 25\n",
            "26\n",
            "Fizz - 27\n",
            "28\n",
            "29\n",
            "FizzBuzz - 30\n",
            "31\n",
            "32\n",
            "Fizz - 33\n",
            "34\n",
            "Buzz - 35\n",
            "Fizz - 36\n",
            "37\n",
            "38\n",
            "Fizz - 39\n",
            "Buzz - 40\n",
            "41\n",
            "Fizz - 42\n",
            "43\n",
            "44\n",
            "FizzBuzz - 45\n",
            "46\n",
            "47\n",
            "Fizz - 48\n",
            "49\n",
            "Buzz - 50\n"
          ]
        }
      ]
    },
    {
      "cell_type": "markdown",
      "source": [
        "### 4 Exercício: Tabuada Completa\n",
        "Descrição:\n",
        "Escreva um programa que exiba a tabuada de 1 a 10. Ou seja, o programa deve mostrar todas as multiplicações entre 1 e 10 para cada número nesse intervalo.\n",
        "\n"
      ],
      "metadata": {
        "id": "AEiyn7LNotmU"
      }
    },
    {
      "cell_type": "code",
      "source": [
        "for i in range(1,11):\n",
        "  for j in range(1,11):\n",
        "    print(f\"{i}x{j} =\", i*j)"
      ],
      "metadata": {
        "id": "F38GZwVFoxX5"
      },
      "execution_count": null,
      "outputs": []
    },
    {
      "cell_type": "markdown",
      "source": [
        "### 5 Exercício: Desenho de Triângulo de Asteriscos\n",
        "Descrição:\n",
        "Escreva um programa que receba um número inteiro positivo do usuário e desenhe um triângulo com esse número de linhas, utilizando asteriscos (*)."
      ],
      "metadata": {
        "id": "00Sr-lXL0sr3"
      }
    },
    {
      "cell_type": "code",
      "source": [
        "for i in range(1,6):\n",
        "  print(i*\"*\")\n"
      ],
      "metadata": {
        "colab": {
          "base_uri": "https://localhost:8080/"
        },
        "id": "hyvXV5lg0sGU",
        "outputId": "bd428cf2-fc82-4870-8dea-94cf5a0c38c4"
      },
      "execution_count": null,
      "outputs": [
        {
          "output_type": "stream",
          "name": "stdout",
          "text": [
            "*\n",
            "**\n",
            "***\n",
            "****\n",
            "*****\n"
          ]
        }
      ]
    },
    {
      "cell_type": "markdown",
      "source": [
        "Triângulo invertido:"
      ],
      "metadata": {
        "id": "_G8QMTQM1gI_"
      }
    },
    {
      "cell_type": "code",
      "source": [
        "for i in range(5,0,-1):\n",
        "  print(i*\"*\")"
      ],
      "metadata": {
        "colab": {
          "base_uri": "https://localhost:8080/"
        },
        "id": "LMSXUr9X1UVy",
        "outputId": "c40a9fe1-3d58-4a0a-c553-2084820d1c47"
      },
      "execution_count": null,
      "outputs": [
        {
          "output_type": "stream",
          "name": "stdout",
          "text": [
            "*****\n",
            "****\n",
            "***\n",
            "**\n",
            "*\n"
          ]
        }
      ]
    },
    {
      "cell_type": "markdown",
      "source": [
        "### 6 Exercício: Pirâmide de Números\n",
        "Descrição:\n",
        "Escreva um programa que desenhe uma pirâmide de números. O número de linhas da pirâmide será fornecido pelo usuário.\n",
        "\n"
      ],
      "metadata": {
        "id": "NmWUy4Ue1yuE"
      }
    },
    {
      "cell_type": "code",
      "source": [
        "user = input(\"insira o número de linhas da pirâmide\")\n"
      ],
      "metadata": {
        "id": "Nf8KF0yf2FvT"
      },
      "execution_count": null,
      "outputs": []
    }
  ]
}