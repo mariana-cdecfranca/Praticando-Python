{
  "nbformat": 4,
  "nbformat_minor": 0,
  "metadata": {
    "colab": {
      "provenance": [],
      "authorship_tag": "ABX9TyOz+r03BF4dOg+90pSlnMtk",
      "include_colab_link": true
    },
    "kernelspec": {
      "name": "python3",
      "display_name": "Python 3"
    },
    "language_info": {
      "name": "python"
    }
  },
  "cells": [
    {
      "cell_type": "markdown",
      "metadata": {
        "id": "view-in-github",
        "colab_type": "text"
      },
      "source": [
        "<a href=\"https://colab.research.google.com/github/mariana-cdecfranca/Praticando-Python/blob/main/Alura_strings_e_regex.ipynb\" target=\"_parent\"><img src=\"https://colab.research.google.com/assets/colab-badge.svg\" alt=\"Open In Colab\"/></a>"
      ]
    },
    {
      "cell_type": "markdown",
      "source": [
        "#Atividade 1"
      ],
      "metadata": {
        "id": "5NKntHbRtiiz"
      }
    },
    {
      "cell_type": "markdown",
      "source": [
        "Victor trabalha em um sistema de e-commerce e precisa organizar os nomes dos produtos que estão sendo cadastrados pelos lojistas. Esses nomes geralmente vêm com letras misturadas entre maiúsculas e minúsculas, além de espaços desnecessários no início e no final.\n",
        "\n",
        "Ajude Victor a criar um programa que receba um nome de produto e o padronize, deixando todas as letras minúsculas e removendo os espaços extras.\n",
        "\n",
        "Exemplo de Entrada:\n",
        "\n",
        "`Digite o nome do produto: ChocoLAte Branco`\n",
        "\n",
        "Saída esperada:\n",
        "\n",
        "`chocolate branco`"
      ],
      "metadata": {
        "id": "H6QHeuFitl7e"
      }
    },
    {
      "cell_type": "code",
      "execution_count": 3,
      "metadata": {
        "colab": {
          "base_uri": "https://localhost:8080/"
        },
        "id": "0uYvAYKstQHd",
        "outputId": "b0c76714-017b-4496-9cb6-2e2536a74b20"
      },
      "outputs": [
        {
          "output_type": "stream",
          "name": "stdout",
          "text": [
            "Insira o nome do produto:  ChocoLAte Branco  \n",
            "chocolate branco\n"
          ]
        }
      ],
      "source": [
        "produto = input(\"Insira o nome do produto: \")\n",
        "\n",
        "correcao = produto.strip().lower()\n",
        "print(correcao)"
      ]
    },
    {
      "cell_type": "markdown",
      "source": [
        "# Atividade 2"
      ],
      "metadata": {
        "id": "iFwZ5uBuuobo"
      }
    },
    {
      "cell_type": "markdown",
      "source": [
        "Rafaela trabalha na área de marketing e quer criar mensagens personalizadas para os clientes. Ela precisa de um programa que permita exibir saudações baseadas no nome do cliente e na cidade onde ele mora.\n",
        "\n",
        "Crie um programa que solicite o nome e a cidade de um cliente e exiba uma mensagem de boas-vindas personalizada.\n",
        "\n",
        "Exemplo de Entrada:\n",
        "\n",
        "`Digite o nome do cliente: Laura`\n",
        "`Digite a cidade do cliente: Rio de Janeiro`\n",
        "\n",
        "\n",
        "Saída esperada:\n",
        "\n",
        "`Olá, Laura! Bem-vinda ao sistema da cidade de Rio de Janeiro.`"
      ],
      "metadata": {
        "id": "lDQb8QYzurUh"
      }
    },
    {
      "cell_type": "code",
      "source": [
        "nome = input(\"Digite o nome do cliente \")\n",
        "\n",
        "print(f'Olá, {nome}! Bem-vindo ao sistema da cidade de Rio de Janeiro.')\n"
      ],
      "metadata": {
        "colab": {
          "base_uri": "https://localhost:8080/"
        },
        "id": "_l-FLzAdvMon",
        "outputId": "fddda304-3dff-428a-e916-8454f0781e2d"
      },
      "execution_count": 6,
      "outputs": [
        {
          "output_type": "stream",
          "name": "stdout",
          "text": [
            "Digite o nome do cliente Mariana\n",
            "Olá, Mariana! Bem-vindo ao sistema da cidade de Rio de Janeiro.\n"
          ]
        }
      ]
    },
    {
      "cell_type": "markdown",
      "source": [
        "# Atividade 3"
      ],
      "metadata": {
        "id": "f5UndbIqwp3p"
      }
    },
    {
      "cell_type": "markdown",
      "source": [
        "Imagine que você precisa criar uma funcionalidade para um jogo, onde os jogadores recebem dicas baseadas em partes específicas de uma palavra-chave. Sua missão é desenvolver um programa que extraia trechos importantes de qualquer palavra digitada.\n",
        "\n",
        "Escreva um programa que solicite ao usuário uma palavra e exiba as três primeiras e as três últimas letras.\n",
        "\n",
        "Exemplo de Entrada:\n",
        "\n",
        "`Digite a palavra-chave: Misterioso`\n",
        "\n",
        "Saída esperada:\n",
        "\n",
        "`Primeiras: Mis`\n",
        "`Últimas: oso`"
      ],
      "metadata": {
        "id": "CeJtMFtdwsXa"
      }
    },
    {
      "cell_type": "code",
      "source": [
        "chave = input(\"Digite a palavra-chave: \")\n",
        "\n",
        "print(\"Primeiras:\", chave[:3])\n",
        "print(\"Últimas:\", chave[-3:])"
      ],
      "metadata": {
        "colab": {
          "base_uri": "https://localhost:8080/"
        },
        "id": "L1nh4rtew-hh",
        "outputId": "2217bb96-df8d-4ceb-ef67-59e788b69c0b"
      },
      "execution_count": 9,
      "outputs": [
        {
          "output_type": "stream",
          "name": "stdout",
          "text": [
            "Digite a palavra-chave: Misterioso\n",
            "Primeiras: Mis\n",
            "Últimas: oso\n"
          ]
        }
      ]
    },
    {
      "cell_type": "markdown",
      "source": [
        "# Atividade 4"
      ],
      "metadata": {
        "id": "4k5I-SagyKpr"
      }
    },
    {
      "cell_type": "markdown",
      "source": [
        "Renan está desenvolvendo um sistema que verifica se os links de sites parceiros começam com https:// e terminam com .com. Esses critérios são obrigatórios para que o site seja aprovado no cadastro. Ajude Renan a criar um programa que realize essa validação de forma automática.\n",
        "\n",
        "Como você escreveria um programa que peça ao usuário uma URL e informe se ela é válida ou inválida?\n",
        "\n",
        "Exemplo de Entrada:\n",
        "\n",
        "`Digite a URL para validação: https://monitorrenan.com`\n",
        "\n",
        "Saída esperada:\n",
        "\n",
        "`URL válida!`"
      ],
      "metadata": {
        "id": "-CXZqM40yM1E"
      }
    },
    {
      "cell_type": "code",
      "source": [
        "site = input(\"Digite a URL para validação: \")\n",
        "\n",
        "if site.startswith(\"https://\") and site.endswith(\".com\"):\n",
        "  print(\"URL válida\")\n",
        "else:\n",
        "  print(\"URL inválida\")\n"
      ],
      "metadata": {
        "colab": {
          "base_uri": "https://localhost:8080/"
        },
        "id": "x7hvbm7KyatI",
        "outputId": "25b44e84-312d-4305-d601-1d7206822115"
      },
      "execution_count": 17,
      "outputs": [
        {
          "output_type": "stream",
          "name": "stdout",
          "text": [
            "Digite a URL para validação: https://monitorrenan.com\n",
            "URL válida\n"
          ]
        }
      ]
    },
    {
      "cell_type": "markdown",
      "source": [
        "# Atividade 5"
      ],
      "metadata": {
        "id": "kvCVNKKwz6GV"
      }
    },
    {
      "cell_type": "markdown",
      "source": [
        "João é atendente em uma farmácia e precisa verificar se um cliente forneceu um número de receita válido em uma descrição. O número da receita é sempre o único número presente no texto fornecido pelo cliente. Ele quer um programa que extraia esse número diretamente e confirme se o texto está correto, sem a necessidade de trabalhar com listas ou loops.\n",
        "\n",
        "Com base nesse cenário, crie um programa que receba um texto com uma descrição e exiba uma mensagem com o número encontrado.\n",
        "\n",
        "Exemplo de Entrada:\n",
        "\n",
        "`Digite a descrição da receita: A receita 1087568 foi enviada pelo cliente.`\n",
        "\n",
        "Saída esperada:\n",
        "\n",
        "`O número da receita é: 1087568`"
      ],
      "metadata": {
        "id": "o7Riy_1bz8sF"
      }
    },
    {
      "cell_type": "code",
      "source": [
        "import re\n",
        "entrada = input(\"Digite a descrição da receita:\")\n",
        "\n",
        "saida = re.findall(r\"\\d+\", entrada) # r indica uma expressão regular\n",
        "\n",
        "print(f'O número da receita é: {saida}')"
      ],
      "metadata": {
        "colab": {
          "base_uri": "https://localhost:8080/"
        },
        "id": "c22xJJkT0Ecr",
        "outputId": "6f606a18-0a5f-430d-f473-7f02ba11a2fe"
      },
      "execution_count": 21,
      "outputs": [
        {
          "output_type": "stream",
          "name": "stdout",
          "text": [
            "Digite a descrição da receita:A receita 1087568 foi enviada pelo cliente.\n",
            "O número da receita é: ['1087568']\n"
          ]
        }
      ]
    },
    {
      "cell_type": "markdown",
      "source": [
        "# Atividade 6"
      ],
      "metadata": {
        "id": "wgKXthL08g2Y"
      }
    },
    {
      "cell_type": "markdown",
      "source": [
        "Nathalia é uma escritora que está revisando um texto para publicação. Durante o processo, ela percebeu que usou a palavra \"bom\" repetidamente, quando queria expressar algo mais forte, como \"ótimo\". Para economizar tempo, Nathalia quer substituir automaticamente todas as ocorrências da palavra \"bom\" por \"ótimo\" no texto.\n",
        "\n",
        "Ajude Nathalia a criar um programa que solicite um texto, a palavra que será substituída e a nova palavra. O programa deve exibir o texto com as alterações aplicadas.\n",
        "\n",
        "Exemplo de Entrada:\n",
        "\n",
        "`Digite o texto a ser revisado: O dia está bom, tudo está bom.`\n",
        "`Qual palavra deseja substituir? bom`\n",
        "`Qual a nova palavra? ótimo`\n",
        "\n",
        "Saída esperada:\n",
        "\n",
        "`O dia está ótimo, tudo está ótimo.`"
      ],
      "metadata": {
        "id": "Wm4uGMn68q_H"
      }
    },
    {
      "cell_type": "code",
      "source": [
        "import re\n",
        "texto = input(\"Digite o texto a ser revisado: \")\n",
        "substituir = input(\"Qual palavra deseja substituir? \")\n",
        "nova = input(\"Qual a nove palavra?\")\n",
        "final = re.sub(rf'\\b{substituir}\\b', nova, texto)\n",
        "print(final)"
      ],
      "metadata": {
        "colab": {
          "base_uri": "https://localhost:8080/"
        },
        "id": "-uHi_16483Un",
        "outputId": "a6f609da-3a48-44f0-b82a-1994bd73f1d3"
      },
      "execution_count": 25,
      "outputs": [
        {
          "output_type": "stream",
          "name": "stdout",
          "text": [
            "Digite o texto a ser revisado: O dia está bom, tudo está bom\n",
            "Qual palavra deseja substituir? bom\n",
            "Qual a nove palavra?ótimo\n",
            "O dia está ótimo, tudo está ótimo\n"
          ]
        }
      ]
    },
    {
      "cell_type": "markdown",
      "source": [
        "# Atividade 7"
      ],
      "metadata": {
        "id": "sDhvm2cBAFKf"
      }
    },
    {
      "cell_type": "markdown",
      "source": [
        "Lorena trabalha no setor de cadastros de uma empresa e precisa garantir que os nomes inseridos pelos clientes estejam no formato correto. O padrão esperado é que os nomes comecem com uma letra maiúscula e contenham apenas letras (sem números ou caracteres especiais). Para facilitar o trabalho, ela quer um programa que valide automaticamente os nomes fornecidos.\n",
        "\n",
        "Ajude a Lorena criando um programa que solicite um nome ao usuário e verifique se ele atende às regras.\n",
        "\n",
        "Exemplo de Entrada:\n",
        "\n",
        "`Digite o nome do cliente para validação: maria123`\n",
        "\n",
        "Saída esperada:\n",
        "\n",
        "`Nome inválido!`\n",
        "\n"
      ],
      "metadata": {
        "id": "cRlB58ChAqgo"
      }
    },
    {
      "cell_type": "code",
      "source": [
        "import re\n",
        "nome = input(\"Insira o nome do clinete para validação: \")\n",
        "\n",
        "if re.fullmatch(r'[A-Z][a-z]*', nome):\n",
        "  print(\"Nome válido\")\n",
        "else:\n",
        "  print(\"Nome inválido\")"
      ],
      "metadata": {
        "colab": {
          "base_uri": "https://localhost:8080/"
        },
        "id": "f8NeKza6AvsA",
        "outputId": "89abf648-0c34-477c-acd4-84a03a29a4b4"
      },
      "execution_count": 28,
      "outputs": [
        {
          "output_type": "stream",
          "name": "stdout",
          "text": [
            "Insira o nome do clinete para validação: Mariana1\n",
            "Nome inválido\n"
          ]
        }
      ]
    },
    {
      "cell_type": "markdown",
      "source": [
        "# Atividade 8"
      ],
      "metadata": {
        "id": "aNy0YkE8CRoR"
      }
    },
    {
      "cell_type": "markdown",
      "source": [
        "Sara trabalha no setor de atendimento de uma empresa e precisa verificar rapidamente se os clientes estão digitando seus números de CPF no formato correto antes de registrar os dados no sistema.\n",
        "\n",
        "O formato esperado do CPF é: três blocos de 3 dígitos separados por pontos (.), seguidos por um bloco de 2 dígitos separados por um traço (-).\n",
        "\n",
        "Ajude Sara a criar um programa que solicite o CPF de um cliente e verifica se ele está no formato correto.\n",
        "\n",
        "Exemplo de Entrada:\n",
        "\n",
        "`Digite o CPF no formato XXX.XXX.XXX-XX: 123.456.789-00`\n",
        "\n",
        "Saída esperada:\n",
        "\n",
        "`O CPF está no formato correto.`"
      ],
      "metadata": {
        "id": "_W6tiwjCCqkf"
      }
    },
    {
      "cell_type": "code",
      "source": [
        "import re\n",
        "\n",
        "numero = input(\"Digite o CPF no formato XXX.XXX.XXX-XX: \")\n",
        "\n",
        "if re.fullmatch(r'\\d{3}.\\d{3}.\\d{3}-\\d{2}', numero):\n",
        "  print(\"O CPF está no formato correto.\")\n",
        "else:\n",
        "  print(\"Formato inválido.\")"
      ],
      "metadata": {
        "colab": {
          "base_uri": "https://localhost:8080/"
        },
        "id": "i6kOG4LZCUHX",
        "outputId": "1202ca58-2cd2-4675-c00a-425b50cf2229"
      },
      "execution_count": 31,
      "outputs": [
        {
          "output_type": "stream",
          "name": "stdout",
          "text": [
            "Digite o CPF no formato XXX.XXX.XXX-XX: 123.456.789-00\n",
            "O CPF está no formato correto.\n"
          ]
        }
      ]
    },
    {
      "cell_type": "markdown",
      "source": [
        "# Atividade 9"
      ],
      "metadata": {
        "id": "H7b5WdDgErzr"
      }
    },
    {
      "cell_type": "markdown",
      "source": [
        "Você trabalha em uma biblioteca e está organizando os títulos de livros no sistema. Você precisa identificar todos os títulos que possuem palavras iniciadas por uma determinada letra, para criar coleções temáticas baseadas em letras específicas. Por exemplo, você poderia usar isso para agrupar livros com palavras que começam com a mesma letra, ajudando na organização ou em campanhas como “Livros com A para você!”.\n",
        "\n",
        "Como você criaria um programa que solicita um texto e uma letra inicial e retorna todas as palavras do texto que começam com essa letra?\n",
        "\n",
        "Exemplo de Entrada:\n",
        "\n",
        "`Digite o título dos livro: As Aventuras de Alice no País das Maravilhas `\n",
        "\n",
        "`Digite a letra inicial para pesquisa: A`\n",
        "\n",
        "Saída esperada:\n",
        "\n",
        "`[\"As\", \"Aventuras\", \"Alice\"]`"
      ],
      "metadata": {
        "id": "S28MXDr7Ewkc"
      }
    },
    {
      "cell_type": "code",
      "source": [
        "import re\n",
        "titulo = input(\"Digite o título dos livros: \")\n",
        "letra = input(\"Digite a letra inicial para pesquisa: \")\n",
        "\n",
        "print(re.findall(rf'\\b{letra}[a-zà-ÿ]*', titulo))\n"
      ],
      "metadata": {
        "colab": {
          "base_uri": "https://localhost:8080/"
        },
        "id": "vOrGYhtvEvRr",
        "outputId": "0786d260-7564-4060-ead1-970058a37b10"
      },
      "execution_count": 36,
      "outputs": [
        {
          "output_type": "stream",
          "name": "stdout",
          "text": [
            "Digite o título dos livros: As Aventuras de Alice no País das Maravilhas\n",
            "Digite a letra inicial para pesquisa: A\n",
            "['As', 'Aventuras', 'Alice']\n"
          ]
        }
      ]
    },
    {
      "cell_type": "markdown",
      "source": [
        "# Atividade 10"
      ],
      "metadata": {
        "id": "Oi3I0hNAQ3zp"
      }
    },
    {
      "cell_type": "markdown",
      "source": [
        "Carlos é analista de dados em um hospital e está organizando informações de pacientes em um banco de dados. Ele recebe os dados no formato: \"PrimeiroNome Sobrenome - Ano\". Por exemplo, “Monalisa Silva - 1994”.\n",
        "\n",
        "Carlos precisa de um programa que leia as informações, capture cada parte separadamente, nome, o sobrenome e o ano de nascimento para preencher os campos do sistema.\n",
        "\n",
        "Ajude Carlos criando um programa que solicite o nome completo e o ano de nascimento de um paciente e exiba-os separadamente.\n",
        "\n",
        "Exemplo de Entrada:\n",
        "\n",
        "`Digite o nome completo e o ano de nascimento do paciente: Ana Silva - 1990`\n",
        "\n",
        "Saída esperada:\n",
        "\n",
        "`Primeiro Nome: Ana`\n",
        "\n",
        "`Sobrenome: Silva`\n",
        "\n",
        "`Ano de Nascimento: 1990`"
      ],
      "metadata": {
        "id": "8nuf9MKgQ6wp"
      }
    },
    {
      "cell_type": "code",
      "source": [
        "import re\n",
        "\n",
        "dados = input(\"Digite o nome completo e o ano de nascimento do paciente: \")\n",
        "\n",
        "ajuste = r'(\\w+) (\\w+) - (\\d{4})' # w corresponde a qualquer alfanumérico\n",
        "\n",
        "resultado = re.search(ajuste, dados)\n",
        "\n",
        "if resultado:\n",
        "  primeiro = resultado.group(1)\n",
        "  segundo = resultado.group(2)\n",
        "  nasc = resultado.group(3)\n",
        "\n",
        "  print(f\"Primeiro nome: {primeiro}\")\n",
        "  print(f\"Sobrenome: {segundo}\")\n",
        "  print(f\"Ano de Nascimento: {nasc}\")\n",
        "\n",
        "else:\n",
        "  print(\"Dados inválidos\")\n"
      ],
      "metadata": {
        "colab": {
          "base_uri": "https://localhost:8080/"
        },
        "id": "0C0mTJo2RGs0",
        "outputId": "1a897ff6-fbc8-4561-df57-9b9cd3e8f4e3"
      },
      "execution_count": 46,
      "outputs": [
        {
          "output_type": "stream",
          "name": "stdout",
          "text": [
            "Digite o nome completo e o ano de nascimento do paciente: Mariana França - 1999\n",
            "Primeiro nome: Mariana\n",
            "Sobrenome: França\n",
            "Ano de Nascimento: 1999\n"
          ]
        }
      ]
    }
  ]
}